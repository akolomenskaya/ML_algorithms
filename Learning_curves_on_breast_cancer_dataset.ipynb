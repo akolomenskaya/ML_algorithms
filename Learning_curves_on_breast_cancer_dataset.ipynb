{
 "cells": [
  {
   "cell_type": "code",
   "execution_count": 1,
   "metadata": {},
   "outputs": [],
   "source": [
    "import numpy as np\n",
    "import matplotlib.pyplot as plt\n",
    "import pandas as pd\n",
    " \n",
    "from sklearn.datasets import load_breast_cancer\n",
    "from sklearn.model_selection import train_test_split\n",
    "from sklearn.svm import SVC\n",
    "\n"
   ]
  },
  {
   "cell_type": "markdown",
   "metadata": {},
   "source": [
    "### Загрузите датасет breast_cancer.\n"
   ]
  },
  {
   "cell_type": "code",
   "execution_count": 2,
   "metadata": {},
   "outputs": [],
   "source": [
    "data = load_breast_cancer()"
   ]
  },
  {
   "cell_type": "code",
   "execution_count": 3,
   "metadata": {},
   "outputs": [
    {
     "name": "stdout",
     "output_type": "stream",
     "text": [
      ".. _breast_cancer_dataset:\n",
      "\n",
      "Breast cancer wisconsin (diagnostic) dataset\n",
      "--------------------------------------------\n",
      "\n",
      "**Data Set Characteristics:**\n",
      "\n",
      "    :Number of Instances: 569\n",
      "\n",
      "    :Number of Attributes: 30 numeric, predictive attributes and the class\n",
      "\n",
      "    :Attribute Information:\n",
      "        - radius (mean of distances from center to points on the perimeter)\n",
      "        - texture (standard deviation of gray-scale values)\n",
      "        - perimeter\n",
      "        - area\n",
      "        - smoothness (local variation in radius lengths)\n",
      "        - compactness (perimeter^2 / area - 1.0)\n",
      "        - concavity (severity of concave portions of the contour)\n",
      "        - concave points (number of concave portions of the contour)\n",
      "        - symmetry \n",
      "        - fractal dimension (\"coastline approximation\" - 1)\n",
      "\n",
      "        The mean, standard error, and \"worst\" or largest (mean of the three\n",
      "        largest values) of these features were computed for each image,\n",
      "        resulting in 30 features.  For instance, field 3 is Mean Radius, field\n",
      "        13 is Radius SE, field 23 is Worst Radius.\n",
      "\n",
      "        - class:\n",
      "                - WDBC-Malignant\n",
      "                - WDBC-Benign\n",
      "\n",
      "    :Summary Statistics:\n",
      "\n",
      "    ===================================== ====== ======\n",
      "                                           Min    Max\n",
      "    ===================================== ====== ======\n",
      "    radius (mean):                        6.981  28.11\n",
      "    texture (mean):                       9.71   39.28\n",
      "    perimeter (mean):                     43.79  188.5\n",
      "    area (mean):                          143.5  2501.0\n",
      "    smoothness (mean):                    0.053  0.163\n",
      "    compactness (mean):                   0.019  0.345\n",
      "    concavity (mean):                     0.0    0.427\n",
      "    concave points (mean):                0.0    0.201\n",
      "    symmetry (mean):                      0.106  0.304\n",
      "    fractal dimension (mean):             0.05   0.097\n",
      "    radius (standard error):              0.112  2.873\n",
      "    texture (standard error):             0.36   4.885\n",
      "    perimeter (standard error):           0.757  21.98\n",
      "    area (standard error):                6.802  542.2\n",
      "    smoothness (standard error):          0.002  0.031\n",
      "    compactness (standard error):         0.002  0.135\n",
      "    concavity (standard error):           0.0    0.396\n",
      "    concave points (standard error):      0.0    0.053\n",
      "    symmetry (standard error):            0.008  0.079\n",
      "    fractal dimension (standard error):   0.001  0.03\n",
      "    radius (worst):                       7.93   36.04\n",
      "    texture (worst):                      12.02  49.54\n",
      "    perimeter (worst):                    50.41  251.2\n",
      "    area (worst):                         185.2  4254.0\n",
      "    smoothness (worst):                   0.071  0.223\n",
      "    compactness (worst):                  0.027  1.058\n",
      "    concavity (worst):                    0.0    1.252\n",
      "    concave points (worst):               0.0    0.291\n",
      "    symmetry (worst):                     0.156  0.664\n",
      "    fractal dimension (worst):            0.055  0.208\n",
      "    ===================================== ====== ======\n",
      "\n",
      "    :Missing Attribute Values: None\n",
      "\n",
      "    :Class Distribution: 212 - Malignant, 357 - Benign\n",
      "\n",
      "    :Creator:  Dr. William H. Wolberg, W. Nick Street, Olvi L. Mangasarian\n",
      "\n",
      "    :Donor: Nick Street\n",
      "\n",
      "    :Date: November, 1995\n",
      "\n",
      "This is a copy of UCI ML Breast Cancer Wisconsin (Diagnostic) datasets.\n",
      "https://goo.gl/U2Uwz2\n",
      "\n",
      "Features are computed from a digitized image of a fine needle\n",
      "aspirate (FNA) of a breast mass.  They describe\n",
      "characteristics of the cell nuclei present in the image.\n",
      "\n",
      "Separating plane described above was obtained using\n",
      "Multisurface Method-Tree (MSM-T) [K. P. Bennett, \"Decision Tree\n",
      "Construction Via Linear Programming.\" Proceedings of the 4th\n",
      "Midwest Artificial Intelligence and Cognitive Science Society,\n",
      "pp. 97-101, 1992], a classification method which uses linear\n",
      "programming to construct a decision tree.  Relevant features\n",
      "were selected using an exhaustive search in the space of 1-4\n",
      "features and 1-3 separating planes.\n",
      "\n",
      "The actual linear program used to obtain the separating plane\n",
      "in the 3-dimensional space is that described in:\n",
      "[K. P. Bennett and O. L. Mangasarian: \"Robust Linear\n",
      "Programming Discrimination of Two Linearly Inseparable Sets\",\n",
      "Optimization Methods and Software 1, 1992, 23-34].\n",
      "\n",
      "This database is also available through the UW CS ftp server:\n",
      "\n",
      "ftp ftp.cs.wisc.edu\n",
      "cd math-prog/cpo-dataset/machine-learn/WDBC/\n",
      "\n",
      ".. topic:: References\n",
      "\n",
      "   - W.N. Street, W.H. Wolberg and O.L. Mangasarian. Nuclear feature extraction \n",
      "     for breast tumor diagnosis. IS&T/SPIE 1993 International Symposium on \n",
      "     Electronic Imaging: Science and Technology, volume 1905, pages 861-870,\n",
      "     San Jose, CA, 1993.\n",
      "   - O.L. Mangasarian, W.N. Street and W.H. Wolberg. Breast cancer diagnosis and \n",
      "     prognosis via linear programming. Operations Research, 43(4), pages 570-577, \n",
      "     July-August 1995.\n",
      "   - W.H. Wolberg, W.N. Street, and O.L. Mangasarian. Machine learning techniques\n",
      "     to diagnose breast cancer from fine-needle aspirates. Cancer Letters 77 (1994) \n",
      "     163-171.\n"
     ]
    }
   ],
   "source": [
    "print(data.DESCR)"
   ]
  },
  {
   "cell_type": "markdown",
   "metadata": {},
   "source": [
    "### Выберите два первых признака. Таким образом мы уменьшим размерность задачи. У нас была задача множественной классификации, а стала - бинарная.\n"
   ]
  },
  {
   "cell_type": "code",
   "execution_count": 4,
   "metadata": {},
   "outputs": [
    {
     "name": "stdout",
     "output_type": "stream",
     "text": [
      "[[17.99 10.38]\n",
      " [20.57 17.77]\n",
      " [19.69 21.25]\n",
      " ...\n",
      " [16.6  28.08]\n",
      " [20.6  29.33]\n",
      " [ 7.76 24.54]]\n"
     ]
    }
   ],
   "source": [
    "x = data.data[:,:2]\n",
    "y = data.target\n",
    "\n",
    "print(x)"
   ]
  },
  {
   "cell_type": "markdown",
   "metadata": {},
   "source": [
    "### Разделите датасет на обучающую и тестовую выборки в пропорции 80-20.\n"
   ]
  },
  {
   "cell_type": "code",
   "execution_count": 5,
   "metadata": {},
   "outputs": [],
   "source": [
    "X_train, X_test, y_train, y_test = train_test_split(x, y, test_size=0.2, random_state=123)\n"
   ]
  },
  {
   "cell_type": "code",
   "execution_count": 6,
   "metadata": {},
   "outputs": [
    {
     "data": {
      "text/plain": [
       "(455, 2)"
      ]
     },
     "execution_count": 6,
     "metadata": {},
     "output_type": "execute_result"
    }
   ],
   "source": [
    "X_train.shape"
   ]
  },
  {
   "cell_type": "code",
   "execution_count": 7,
   "metadata": {},
   "outputs": [
    {
     "data": {
      "text/plain": [
       "(114, 2)"
      ]
     },
     "execution_count": 7,
     "metadata": {},
     "output_type": "execute_result"
    }
   ],
   "source": [
    "X_test.shape"
   ]
  },
  {
   "cell_type": "markdown",
   "metadata": {},
   "source": [
    "### Постройте классификатор на опорных векторах с гауссовым ядром с параметром регуляризации C=0.01. Выведите на экран значение точности на тестовой и обучающей выборке. Сделайте предварительный вывод о степени обученности модели.\n"
   ]
  },
  {
   "cell_type": "code",
   "execution_count": 8,
   "metadata": {},
   "outputs": [
    {
     "name": "stdout",
     "output_type": "stream",
     "text": [
      "\u001b[1m Train score:\u001b[0m 0.71  \u001b[1m Test score:\u001b[0m 0.69\n",
      "\u001b[1m Train error:\u001b[0m 0.29  \u001b[1m Test error:\u001b[0m 0.31\n"
     ]
    }
   ],
   "source": [
    "clf = SVC(C=0.01)\n",
    " \n",
    "clf.fit(X_train, y_train)\n",
    "\n",
    "predicted = clf.predict(X_test)\n",
    "\n",
    "err_train = np.mean(y_train != clf.predict(X_train))\n",
    "err_test = np.mean(y_test != clf.predict(X_test))\n",
    " \n",
    "print('\\033[1m Train score:\\033[0m',round(clf.score(X_train, y_train),2),' \\033[1m Test score:\\033[0m',round(clf.score(X_test, y_test),2))\n",
    "print('\\033[1m Train error:\\033[0m',round(err_train,2),' \\033[1m Test error:\\033[0m', round(err_test,2))\n"
   ]
  },
  {
   "cell_type": "markdown",
   "metadata": {},
   "source": [
    "Если смотреть на ошибку для обучающей и тренировочной выборки, а так же на метрику score, то мы видим, что модель не очень хорошо работает как на обучающей, так и на тренировочной выборке, что может говорить о **недообучении**"
   ]
  },
  {
   "cell_type": "markdown",
   "metadata": {},
   "source": [
    "### Постройте графически зависимость тестовой и обучающей точности от размера обучающей выборки."
   ]
  },
  {
   "cell_type": "markdown",
   "metadata": {},
   "source": [
    "##### Прокомментируйте получившийся результат. Сделайте вывод о том, недообучается или переобучается модель? "
   ]
  },
  {
   "cell_type": "code",
   "execution_count": 9,
   "metadata": {},
   "outputs": [
    {
     "data": {
      "text/plain": [
       "<matplotlib.legend.Legend at 0x7ffbed0e3c10>"
      ]
     },
     "execution_count": 9,
     "metadata": {},
     "output_type": "execute_result"
    },
    {
     "data": {
      "image/png": "[encoded data removed]",
      "text/plain": [
       "<Figure size 720x360 with 1 Axes>"
      ]
     },
     "metadata": {
      "needs_background": "light"
     },
     "output_type": "display_data"
    }
   ],
   "source": [
    "training_scores = []\n",
    "test_scores = []\n",
    "numbers = []\n",
    " \n",
    "for i in np.linspace(20, len(X_train), 10):\n",
    "    \n",
    "    clf = SVC(C=10, kernel='rbf')\n",
    "    X = X_train[:int(i)]\n",
    "    y = y_train[:int(i)]\n",
    "    clf.fit(X, y)\n",
    "    \n",
    "    numbers.append(int(i))\n",
    "    training_scores.append(clf.score(X_train, y_train))\n",
    "    test_scores.append(clf.score(X_test, y_test))\n",
    "    \n",
    "plt.figure(figsize=(10, 5))\n",
    "plt.plot(numbers, training_scores, label=\"training scores\")\n",
    "plt.plot(numbers, test_scores, label=\"test scores\")\n",
    "plt.legend(loc=\"lower right\")\n"
   ]
  },
  {
   "cell_type": "markdown",
   "metadata": {},
   "source": [
    "Видно, что обучающая выборка резко улучшает свой показатель к объему выборки ~150, а дальше стабилизируетсяя и равна около 0,9"
   ]
  },
  {
   "cell_type": "markdown",
   "metadata": {},
   "source": [
    "Тестовая выборка постепенно улучшает свой показатель, но после ~350 резко ухудшает, и дальше возможно при увеличении объема модель станет переобученной"
   ]
  },
  {
   "cell_type": "markdown",
   "metadata": {},
   "source": [
    "В виду этого можно сделать вывод, что модель в интервале с 100 до 350 по оси Х с увеличением объема улучшает результат работы модели, что значит, что данная модель дообучается, будучи изначально **недообученной**"
   ]
  },
  {
   "cell_type": "markdown",
   "metadata": {},
   "source": [
    "#### В зависимости от этого выберите варианты, которые могут привести к увеличению точности модели (обычно подходит больше одного варианта):\n"
   ]
  },
  {
   "cell_type": "markdown",
   "metadata": {},
   "source": [
    "* __Ответ:__ можно попробовать собрать больше объектов наблюдения или добавить еще признаков для обучения, также можно попробовать  усложнить модель, либо поработать с методами регуляризации модели\n",
    "\n"
   ]
  },
  {
   "cell_type": "markdown",
   "metadata": {},
   "source": [
    "### Проверьте выдвинутую гипотезу и попробуйте улучшить модель в соответствии с выбранными рекомендациями. Проверьте, увеличивается ли тестовая точность. Сделайте вывод.\n"
   ]
  },
  {
   "cell_type": "markdown",
   "metadata": {},
   "source": [
    "_Попробуем добавить признаки в модель, которые могут как-то помочь определять болезнь_"
   ]
  },
  {
   "cell_type": "markdown",
   "metadata": {},
   "source": [
    "Для этого изучим доступные признаки и выберем те, которые по логике могут быть ключевымит в опредлении модели"
   ]
  },
  {
   "cell_type": "markdown",
   "metadata": {},
   "source": [
    "Используем метод hierarchy,который боретчя с мультиколлениарностью"
   ]
  },
  {
   "cell_type": "code",
   "execution_count": 10,
   "metadata": {},
   "outputs": [
    {
     "name": "stdout",
     "output_type": "stream",
     "text": [
      "['mean radius' 'mean texture' 'mean perimeter' 'mean area'\n",
      " 'mean smoothness' 'mean compactness' 'mean concavity'\n",
      " 'mean concave points' 'mean symmetry' 'mean fractal dimension'\n",
      " 'radius error' 'texture error' 'perimeter error' 'area error'\n",
      " 'smoothness error' 'compactness error' 'concavity error'\n",
      " 'concave points error' 'symmetry error' 'fractal dimension error'\n",
      " 'worst radius' 'worst texture' 'worst perimeter' 'worst area'\n",
      " 'worst smoothness' 'worst compactness' 'worst concavity'\n",
      " 'worst concave points' 'worst symmetry' 'worst fractal dimension']\n"
     ]
    }
   ],
   "source": [
    "print(data.feature_names)"
   ]
  },
  {
   "cell_type": "markdown",
   "metadata": {},
   "source": [
    "Можно оценить влияние каждого признака на target"
   ]
  },
  {
   "cell_type": "code",
   "execution_count": 11,
   "metadata": {},
   "outputs": [
    {
     "data": {
      "text/plain": [
       "(426, 30)"
      ]
     },
     "execution_count": 11,
     "metadata": {},
     "output_type": "execute_result"
    }
   ],
   "source": [
    "from sklearn.inspection import permutation_importance\n",
    "from scipy.stats import spearmanr\n",
    "from scipy.cluster import hierarchy\n",
    "\n",
    "X, y = data.data, data.target\n",
    "\n",
    "X_train, X_test, y_train, y_test = train_test_split(X, y, random_state=42)\n",
    "X_train.shape"
   ]
  },
  {
   "cell_type": "code",
   "execution_count": 12,
   "metadata": {},
   "outputs": [
    {
     "data": {
      "image/png": "[encoded data removed]",
      "text/plain": [
       "<Figure size 864x576 with 2 Axes>"
      ]
     },
     "metadata": {
      "needs_background": "light"
     },
     "output_type": "display_data"
    }
   ],
   "source": [
    "fig, (ax1, ax2) = plt.subplots(1, 2, figsize=(12, 8))\n",
    "corr = spearmanr(X).correlation\n",
    "corr_linkage = hierarchy.ward(corr)\n",
    "dendro = hierarchy.dendrogram(\n",
    "    corr_linkage, labels=data.feature_names.tolist(), ax=ax1, leaf_rotation=90\n",
    ")\n",
    "dendro_idx = np.arange(0, len(dendro['ivl']))\n",
    "\n",
    "ax2.imshow(corr[dendro['leaves'], :][:, dendro['leaves']])\n",
    "ax2.set_xticks(dendro_idx)\n",
    "ax2.set_yticks(dendro_idx)\n",
    "ax2.set_xticklabels(dendro['ivl'], rotation='vertical')\n",
    "ax2.set_yticklabels(dendro['ivl'])\n",
    "fig.tight_layout()\n",
    "plt.show()"
   ]
  },
  {
   "cell_type": "markdown",
   "metadata": {},
   "source": [
    "    С помощью построения тепловой карты корреляицонных функций фич мы можем понять, наиболее кореллирующие фичи с объектом, также на левом графике происходит кластеризации функций, чтобы понять какие можно убрать без потери качества модели, а какие точно нужно включить из-за своей важности"
   ]
  },
  {
   "cell_type": "markdown",
   "metadata": {},
   "source": [
    "Возьмем например, к имеющимся ранее признакам еще признак worst concave points и mean area и посмотрим, как изменилось качество модели"
   ]
  },
  {
   "cell_type": "code",
   "execution_count": 13,
   "metadata": {},
   "outputs": [],
   "source": [
    "X = data.data\n",
    "df = pd.DataFrame(data=data.data,columns=data.feature_names)\n",
    "X = df[['mean radius', 'mean texture', 'mean area', 'worst concave points']]\n",
    "y = data.target"
   ]
  },
  {
   "cell_type": "code",
   "execution_count": 14,
   "metadata": {},
   "outputs": [
    {
     "data": {
      "text/html": [
       "<div>\n",
       "<style scoped>\n",
       "    .dataframe tbody tr th:only-of-type {\n",
       "        vertical-align: middle;\n",
       "    }\n",
       "\n",
       "    .dataframe tbody tr th {\n",
       "        vertical-align: top;\n",
       "    }\n",
       "\n",
       "    .dataframe thead th {\n",
       "        text-align: right;\n",
       "    }\n",
       "</style>\n",
       "<table border=\"1\" class=\"dataframe\">\n",
       "  <thead>\n",
       "    <tr style=\"text-align: right;\">\n",
       "      <th></th>\n",
       "      <th>mean radius</th>\n",
       "      <th>mean texture</th>\n",
       "      <th>mean area</th>\n",
       "      <th>worst concave points</th>\n",
       "    </tr>\n",
       "  </thead>\n",
       "  <tbody>\n",
       "    <tr>\n",
       "      <th>0</th>\n",
       "      <td>17.99</td>\n",
       "      <td>10.38</td>\n",
       "      <td>1001.0</td>\n",
       "      <td>0.2654</td>\n",
       "    </tr>\n",
       "    <tr>\n",
       "      <th>1</th>\n",
       "      <td>20.57</td>\n",
       "      <td>17.77</td>\n",
       "      <td>1326.0</td>\n",
       "      <td>0.1860</td>\n",
       "    </tr>\n",
       "    <tr>\n",
       "      <th>2</th>\n",
       "      <td>19.69</td>\n",
       "      <td>21.25</td>\n",
       "      <td>1203.0</td>\n",
       "      <td>0.2430</td>\n",
       "    </tr>\n",
       "    <tr>\n",
       "      <th>3</th>\n",
       "      <td>11.42</td>\n",
       "      <td>20.38</td>\n",
       "      <td>386.1</td>\n",
       "      <td>0.2575</td>\n",
       "    </tr>\n",
       "    <tr>\n",
       "      <th>4</th>\n",
       "      <td>20.29</td>\n",
       "      <td>14.34</td>\n",
       "      <td>1297.0</td>\n",
       "      <td>0.1625</td>\n",
       "    </tr>\n",
       "  </tbody>\n",
       "</table>\n",
       "</div>"
      ],
      "text/plain": [
       "   mean radius  mean texture  mean area  worst concave points\n",
       "0        17.99         10.38     1001.0                0.2654\n",
       "1        20.57         17.77     1326.0                0.1860\n",
       "2        19.69         21.25     1203.0                0.2430\n",
       "3        11.42         20.38      386.1                0.2575\n",
       "4        20.29         14.34     1297.0                0.1625"
      ]
     },
     "execution_count": 14,
     "metadata": {},
     "output_type": "execute_result"
    }
   ],
   "source": [
    "X.head()"
   ]
  },
  {
   "cell_type": "code",
   "execution_count": 15,
   "metadata": {},
   "outputs": [],
   "source": [
    "X_train, X_test, y_train, y_test = train_test_split(X, y, test_size=0.2,random_state=123)"
   ]
  },
  {
   "cell_type": "code",
   "execution_count": 16,
   "metadata": {},
   "outputs": [
    {
     "data": {
      "text/html": [
       "<div>\n",
       "<style scoped>\n",
       "    .dataframe tbody tr th:only-of-type {\n",
       "        vertical-align: middle;\n",
       "    }\n",
       "\n",
       "    .dataframe tbody tr th {\n",
       "        vertical-align: top;\n",
       "    }\n",
       "\n",
       "    .dataframe thead th {\n",
       "        text-align: right;\n",
       "    }\n",
       "</style>\n",
       "<table border=\"1\" class=\"dataframe\">\n",
       "  <thead>\n",
       "    <tr style=\"text-align: right;\">\n",
       "      <th></th>\n",
       "      <th>mean radius</th>\n",
       "      <th>mean texture</th>\n",
       "      <th>mean area</th>\n",
       "      <th>worst concave points</th>\n",
       "    </tr>\n",
       "  </thead>\n",
       "  <tbody>\n",
       "    <tr>\n",
       "      <th>190</th>\n",
       "      <td>14.22</td>\n",
       "      <td>23.12</td>\n",
       "      <td>609.9</td>\n",
       "      <td>0.17720</td>\n",
       "    </tr>\n",
       "    <tr>\n",
       "      <th>134</th>\n",
       "      <td>18.45</td>\n",
       "      <td>21.91</td>\n",
       "      <td>1075.0</td>\n",
       "      <td>0.13790</td>\n",
       "    </tr>\n",
       "    <tr>\n",
       "      <th>386</th>\n",
       "      <td>12.21</td>\n",
       "      <td>14.09</td>\n",
       "      <td>462.0</td>\n",
       "      <td>0.09140</td>\n",
       "    </tr>\n",
       "    <tr>\n",
       "      <th>118</th>\n",
       "      <td>15.78</td>\n",
       "      <td>22.91</td>\n",
       "      <td>782.6</td>\n",
       "      <td>0.20340</td>\n",
       "    </tr>\n",
       "    <tr>\n",
       "      <th>316</th>\n",
       "      <td>12.18</td>\n",
       "      <td>14.08</td>\n",
       "      <td>461.4</td>\n",
       "      <td>0.01852</td>\n",
       "    </tr>\n",
       "  </tbody>\n",
       "</table>\n",
       "</div>"
      ],
      "text/plain": [
       "     mean radius  mean texture  mean area  worst concave points\n",
       "190        14.22         23.12      609.9               0.17720\n",
       "134        18.45         21.91     1075.0               0.13790\n",
       "386        12.21         14.09      462.0               0.09140\n",
       "118        15.78         22.91      782.6               0.20340\n",
       "316        12.18         14.08      461.4               0.01852"
      ]
     },
     "execution_count": 16,
     "metadata": {},
     "output_type": "execute_result"
    }
   ],
   "source": [
    "X_train.head()"
   ]
  },
  {
   "cell_type": "code",
   "execution_count": 17,
   "metadata": {},
   "outputs": [
    {
     "data": {
      "text/plain": [
       "(455, 4)"
      ]
     },
     "execution_count": 17,
     "metadata": {},
     "output_type": "execute_result"
    }
   ],
   "source": [
    "X_train.shape"
   ]
  },
  {
   "cell_type": "code",
   "execution_count": 18,
   "metadata": {},
   "outputs": [
    {
     "name": "stdout",
     "output_type": "stream",
     "text": [
      "\u001b[1m Train score:\u001b[0m 0.8  \u001b[1m Test score:\u001b[0m 0.75\n",
      "\u001b[1m Train error:\u001b[0m 0.2  \u001b[1m Test error:\u001b[0m 0.25\n"
     ]
    }
   ],
   "source": [
    "clf = SVC(C=0.01)\n",
    " \n",
    "clf.fit(X_train, y_train)\n",
    "\n",
    "predicted = clf.predict(X_test)\n",
    "\n",
    "err_train = np.mean(y_train != clf.predict(X_train))\n",
    "err_test = np.mean(y_test != clf.predict(X_test))\n",
    " \n",
    "print('\\033[1m Train score:\\033[0m',round(clf.score(X_train, y_train),2),' \\033[1m Test score:\\033[0m',round(clf.score(X_test, y_test),2))\n",
    "print('\\033[1m Train error:\\033[0m',round(err_train,2),' \\033[1m Test error:\\033[0m', round(err_test,2))\n",
    "\n"
   ]
  },
  {
   "cell_type": "markdown",
   "metadata": {},
   "source": [
    "Как мы видим, увеличилась метрика score и уменьшилась ошибка как на тренировчной выборке, так и на тестовой"
   ]
  },
  {
   "cell_type": "code",
   "execution_count": 19,
   "metadata": {},
   "outputs": [
    {
     "data": {
      "text/plain": [
       "<matplotlib.legend.Legend at 0x7ffbeece5250>"
      ]
     },
     "execution_count": 19,
     "metadata": {},
     "output_type": "execute_result"
    },
    {
     "data": {
      "image/png": "[encoded data removed]",
      "text/plain": [
       "<Figure size 720x360 with 1 Axes>"
      ]
     },
     "metadata": {
      "needs_background": "light"
     },
     "output_type": "display_data"
    }
   ],
   "source": [
    "training_scores = []\n",
    "test_scores = []\n",
    "numbers = []\n",
    " \n",
    "for i in np.linspace(20, len(X_train), 10):\n",
    "    \n",
    "    clf = SVC(C=10, kernel='rbf')\n",
    "    X = X_train[:int(i)]\n",
    "    y = y_train[:int(i)]\n",
    "    clf.fit(X, y)\n",
    "    \n",
    "    numbers.append(int(i))\n",
    "    training_scores.append(clf.score(X_train, y_train))\n",
    "    test_scores.append(clf.score(X_test, y_test))\n",
    "    \n",
    "plt.figure(figsize=(10, 5))\n",
    "plt.plot(numbers, training_scores, label=\"training scores\")\n",
    "plt.plot(numbers, test_scores, label=\"test scores\")\n",
    "plt.legend(loc=\"lower right\")\n",
    "\n"
   ]
  },
  {
   "cell_type": "markdown",
   "metadata": {},
   "source": [
    "Есть объемы выборки, когда модель является переобученной, а есть когда недообученной, но в целом точность модели поывысилась, как на обучающей, так и на тестовой выборке"
   ]
  },
  {
   "cell_type": "markdown",
   "metadata": {},
   "source": [
    "### Повторите предыдущий пункт для различных значений C в диапазоне от 0,0001 до 1 000 000. Обратите внимание на шкалу по вертикальной оси. Для каких значений тестовая точность оптимальна? Какие значения дают недообучение? Какие - переобучение?\n"
   ]
  },
  {
   "cell_type": "markdown",
   "metadata": {},
   "source": [
    "### Найдите методом подбора оптимальное значение параметра регуляризации (примерное).\n"
   ]
  },
  {
   "cell_type": "code",
   "execution_count": 20,
   "metadata": {},
   "outputs": [],
   "source": [
    "from sklearn.model_selection import GridSearchCV"
   ]
  },
  {
   "cell_type": "code",
   "execution_count": 21,
   "metadata": {},
   "outputs": [],
   "source": [
    "estimator = SVC()\n",
    "grid_svc =GridSearchCV(estimator,\n",
    "             param_grid={'C': [0.0001, 1000000]})\n",
    "grid_svc.fit(X_train,y_train)\n",
    "predicted = grid_svc.predict(X_test)"
   ]
  },
  {
   "cell_type": "code",
   "execution_count": 22,
   "metadata": {},
   "outputs": [
    {
     "name": "stdout",
     "output_type": "stream",
     "text": [
      "\u001b[1m Train score:\u001b[0m 0.94  \u001b[1m Test score:\u001b[0m 0.95\n"
     ]
    }
   ],
   "source": [
    "print('\\033[1m Train score:\\033[0m',round(grid_svc.score(X_train, y_train),2),' \\033[1m Test score:\\033[0m',round(grid_svc.score(X_test, y_test),2))"
   ]
  },
  {
   "cell_type": "code",
   "execution_count": 23,
   "metadata": {},
   "outputs": [
    {
     "data": {
      "text/plain": [
       "{'C': 1000000}"
      ]
     },
     "execution_count": 23,
     "metadata": {},
     "output_type": "execute_result"
    }
   ],
   "source": [
    "grid_svc.best_params_"
   ]
  },
  {
   "cell_type": "code",
   "execution_count": 24,
   "metadata": {},
   "outputs": [
    {
     "name": "stdout",
     "output_type": "stream",
     "text": [
      "100\n"
     ]
    }
   ],
   "source": [
    "scores_test = []\n",
    "scores_train = []\n",
    "cs =np.arange(0.01, 1000000, 10000)\n",
    "for i in cs:\n",
    "    clf = SVC(C=i)\n",
    "    clf.fit(X_train,y_train)\n",
    "    scores_train.append(clf.score(X_train, y_train))\n",
    "    scores_test.append(clf.score(X_test, y_test))\n",
    "    \n",
    "print(len(cs))    "
   ]
  },
  {
   "cell_type": "markdown",
   "metadata": {},
   "source": [
    "#### Постройте график зависимости тестовой и обучающей точности от значения регуляризационного параметра. Сделайте вывод о зависимости степени регуляризации на точность модели.\n"
   ]
  },
  {
   "cell_type": "code",
   "execution_count": 25,
   "metadata": {},
   "outputs": [
    {
     "data": {
      "text/plain": [
       "<matplotlib.legend.Legend at 0x7ffbe97b2c50>"
      ]
     },
     "execution_count": 25,
     "metadata": {},
     "output_type": "execute_result"
    },
    {
     "data": {
      "image/png": "[encoded data removed]",
      "text/plain": [
       "<Figure size 432x288 with 1 Axes>"
      ]
     },
     "metadata": {
      "needs_background": "light"
     },
     "output_type": "display_data"
    }
   ],
   "source": [
    "plt.plot(cs,scores_train,label=\"training scores\")\n",
    "plt.plot(cs,scores_test,label=\"testing scores\")\n",
    "plt.ylabel('Score')\n",
    "plt.xlabel('C-parametr')\n",
    "plt.legend(loc=\"lower right\")"
   ]
  },
  {
   "cell_type": "markdown",
   "metadata": {},
   "source": [
    "Методом грид серча подобрался самый лучший параметр из предложенного диапазона и он равен 1000000"
   ]
  },
  {
   "cell_type": "markdown",
   "metadata": {},
   "source": [
    "Как видно на графике, до какого-то параметра С линия тестовой выборки ниже тренировчной, что говорит о переобучении, далее алгоритм улучшает свой показатель и убирает переобучение"
   ]
  },
  {
   "cell_type": "markdown",
   "metadata": {},
   "source": [
    "### Повторите два предыдущих пункта для метода опорных векторов с линейным ядром. Сравните получившиеся результаты. Сделайте вывод о сравнительной эффективности двух этих моделей.\n"
   ]
  },
  {
   "cell_type": "code",
   "execution_count": 26,
   "metadata": {},
   "outputs": [
    {
     "name": "stdout",
     "output_type": "stream",
     "text": [
      "\u001b[1m Train score:\u001b[0m 0.91  \u001b[1m Test score:\u001b[0m 0.9\n",
      "\u001b[1m Train error:\u001b[0m 0.09  \u001b[1m Test error:\u001b[0m 0.1\n"
     ]
    }
   ],
   "source": [
    "linear_svc = SVC(kernel='linear')\n",
    "linear_svc.fit(X_train, y_train)\n",
    "\n",
    "predicted = linear_svc.predict(X_test)\n",
    "\n",
    "err_train = np.mean(y_train != linear_svc.predict(X_train))\n",
    "err_test = np.mean(y_test != linear_svc.predict(X_test))\n",
    " \n",
    "print('\\033[1m Train score:\\033[0m',round(linear_svc.score(X_train, y_train),2),' \\033[1m Test score:\\033[0m',round(linear_svc.score(X_test, y_test),2))\n",
    "print('\\033[1m Train error:\\033[0m',round(err_train,2),' \\033[1m Test error:\\033[0m', round(err_test,2))\n",
    "\n",
    "\n"
   ]
  },
  {
   "cell_type": "code",
   "execution_count": 27,
   "metadata": {},
   "outputs": [
    {
     "data": {
      "text/plain": [
       "<matplotlib.legend.Legend at 0x7ffbe983b390>"
      ]
     },
     "execution_count": 27,
     "metadata": {},
     "output_type": "execute_result"
    },
    {
     "data": {
      "image/png": "[encoded data removed]",
      "text/plain": [
       "<Figure size 720x360 with 1 Axes>"
      ]
     },
     "metadata": {
      "needs_background": "light"
     },
     "output_type": "display_data"
    }
   ],
   "source": [
    "training_scores = []\n",
    "test_scores = []\n",
    "numbers = []\n",
    " \n",
    "for i in np.linspace(20, len(X_train), 10):\n",
    "    \n",
    "    clf = SVC(C=10, kernel='linear')\n",
    "    X = X_train[:int(i)]\n",
    "    y = y_train[:int(i)]\n",
    "    clf.fit(X, y)\n",
    "    \n",
    "    numbers.append(int(i))\n",
    "    training_scores.append(clf.score(X_train, y_train))\n",
    "    test_scores.append(clf.score(X_test, y_test))\n",
    "    \n",
    "plt.figure(figsize=(10, 5))\n",
    "plt.plot(numbers, training_scores, label=\"training scores\")\n",
    "plt.plot(numbers, test_scores, label=\"test scores\")\n",
    "plt.legend(loc=\"lower right\")\n",
    "\n"
   ]
  },
  {
   "cell_type": "markdown",
   "metadata": {},
   "source": [
    "По сравнению с rbf-ядром линейная svc модель показывает меньшую разницу между тестовым и тренировочным показателем, и в целом у данной модели ошибка для обоих выборок меньше, чем в предыдущей модели"
   ]
  },
  {
   "cell_type": "markdown",
   "metadata": {},
   "source": [
    "Тем не менее мы видим на графике, что сначала модель хорошо обучена, а дальше происходит спад показателя для тестовой выборки в сравнении с тренировчной, то есть модель становится переобученной"
   ]
  },
  {
   "cell_type": "code",
   "execution_count": 28,
   "metadata": {},
   "outputs": [],
   "source": [
    "estimator = SVC(kernel='linear')\n",
    "grid_svc =GridSearchCV(estimator,\n",
    "             param_grid={'C': [0.0001, 1000000]})\n",
    "grid_svc.fit(X_train,y_train)\n",
    "predicted = grid_svc.predict(X_test)"
   ]
  },
  {
   "cell_type": "code",
   "execution_count": 29,
   "metadata": {},
   "outputs": [
    {
     "name": "stdout",
     "output_type": "stream",
     "text": [
      "\u001b[1m Train score:\u001b[0m 0.95  \u001b[1m Test score:\u001b[0m 0.96\n"
     ]
    }
   ],
   "source": [
    "print('\\033[1m Train score:\\033[0m',round(grid_svc.score(X_train, y_train),2),' \\033[1m Test score:\\033[0m',round(grid_svc.score(X_test, y_test),2))"
   ]
  },
  {
   "cell_type": "code",
   "execution_count": 30,
   "metadata": {},
   "outputs": [
    {
     "data": {
      "text/plain": [
       "{'C': 1000000}"
      ]
     },
     "execution_count": 30,
     "metadata": {},
     "output_type": "execute_result"
    }
   ],
   "source": [
    "grid_svc.best_params_"
   ]
  },
  {
   "cell_type": "code",
   "execution_count": 31,
   "metadata": {},
   "outputs": [
    {
     "name": "stdout",
     "output_type": "stream",
     "text": [
      "20\n"
     ]
    }
   ],
   "source": [
    "scores_test = []\n",
    "scores_train = []\n",
    "cs =np.arange(0.01, 100000, 5000)\n",
    "for i in cs:\n",
    "    clf = SVC(C=i, kernel='linear')\n",
    "    clf.fit(X_train,y_train)\n",
    "    scores_train.append(clf.score(X_train, y_train))\n",
    "    scores_test.append(clf.score(X_test, y_test))\n",
    "    \n",
    "print(len(cs))    "
   ]
  },
  {
   "cell_type": "markdown",
   "metadata": {},
   "source": [
    "#### Постройте график зависимости тестовой и обучающей точности от значения регуляризационного параметра. Сделайте вывод о зависимости степени регуляризации на точность модели.\n"
   ]
  },
  {
   "cell_type": "code",
   "execution_count": 32,
   "metadata": {},
   "outputs": [
    {
     "data": {
      "text/plain": [
       "<matplotlib.legend.Legend at 0x7ffbeeb1d110>"
      ]
     },
     "execution_count": 32,
     "metadata": {},
     "output_type": "execute_result"
    },
    {
     "data": {
      "image/png": "[encoded data removed]",
      "text/plain": [
       "<Figure size 432x288 with 1 Axes>"
      ]
     },
     "metadata": {
      "needs_background": "light"
     },
     "output_type": "display_data"
    }
   ],
   "source": [
    "plt.plot(cs,scores_train,label=\"training scores\")\n",
    "plt.plot(cs,scores_test,label=\"testing scores\")\n",
    "plt.ylabel('Score')\n",
    "plt.xlabel('C-parametr')\n",
    "plt.legend(loc=\"lower right\")"
   ]
  },
  {
   "cell_type": "markdown",
   "metadata": {},
   "source": [
    "Как видно на графике, для данного метода С-параметр не  влияет на обученность модели: на протяжении всей оси Х прямая тестовой выборки ниже тренировчной, то есть ее показатель хуже, чем у тренировочной, а значит можно предположить, что модель переобучена во всех случаях параметра С"
   ]
  },
  {
   "cell_type": "markdown",
   "metadata": {},
   "source": [
    "В одной точке даже есть, где модель переобчена сильнее всего - это низкий спуск на графике линии тестовой выборки"
   ]
  },
  {
   "cell_type": "markdown",
   "metadata": {},
   "source": [
    "Но несмотря, что на графике видна тенденция переобученности модели, ее показатель варьируется в пределах 90%, что является самим по себе неплохим результатом для модели"
   ]
  },
  {
   "cell_type": "markdown",
   "metadata": {},
   "source": [
    "## Дополнительные задания\n"
   ]
  },
  {
   "cell_type": "markdown",
   "metadata": {},
   "source": [
    "### Повторите такой же анализ для полиномиального ядра и степени полинома как гиперпараметра. Прокомментируйте кривые обучения для случаев недо-и переобучения."
   ]
  },
  {
   "cell_type": "markdown",
   "metadata": {},
   "source": [
    "\n"
   ]
  },
  {
   "cell_type": "code",
   "execution_count": 33,
   "metadata": {},
   "outputs": [],
   "source": [
    "from sklearn.preprocessing import PolynomialFeatures\n",
    "from sklearn.metrics import r2_score,mean_squared_error"
   ]
  },
  {
   "cell_type": "code",
   "execution_count": 34,
   "metadata": {},
   "outputs": [
    {
     "name": "stdout",
     "output_type": "stream",
     "text": [
      "0.8637362637362638\n"
     ]
    }
   ],
   "source": [
    "poly_reg = PolynomialFeatures(degree=2)\n",
    "X_pol_train = poly_reg.fit_transform(X_train)\n",
    "X_pol_test = poly_reg.fit_transform(X_test)\n",
    "    \n",
    "pol_reg = SVC(kernel='rbf')\n",
    "test=pol_reg.fit(X_pol_train, y)\n",
    "Y_pred = pol_reg.predict(X_pol_test)\n",
    "    \n",
    "print(pol_reg.score(X_pol_train,y_train))"
   ]
  },
  {
   "cell_type": "code",
   "execution_count": 35,
   "metadata": {},
   "outputs": [],
   "source": [
    "score = []\n",
    "score_test = []\n",
    "degrees = [1,2,3,4,5,6,7,8,9,10]\n",
    "for degree in degrees:\n",
    "    poly_reg = PolynomialFeatures(degree=degree)\n",
    "    X_pol_train = poly_reg.fit_transform(X_train)\n",
    "    X_pol_test = poly_reg.fit_transform(X_test)\n",
    "    \n",
    "    pol_reg = SVC(kernel='rbf')\n",
    "    test=pol_reg.fit(X_pol_train, y)\n",
    "    Y_pred = pol_reg.predict(X_pol_test)\n",
    "    \n",
    "    score.append(pol_reg.score(X_pol_train,y_train))\n",
    "    score_test.append(pol_reg.score(X_pol_test,y_test))"
   ]
  },
  {
   "cell_type": "code",
   "execution_count": 36,
   "metadata": {},
   "outputs": [
    {
     "data": {
      "text/plain": [
       "<matplotlib.legend.Legend at 0x7ffbeea7a690>"
      ]
     },
     "execution_count": 36,
     "metadata": {},
     "output_type": "execute_result"
    },
    {
     "data": {
      "image/png": "[encoded data removed]",
      "text/plain": [
       "<Figure size 432x288 with 1 Axes>"
      ]
     },
     "metadata": {
      "needs_background": "light"
     },
     "output_type": "display_data"
    }
   ],
   "source": [
    "plt.plot(degrees,score,label=\"training scores\")\n",
    "plt.plot(degrees,score_test,label=\"testing scores\")\n",
    "plt.ylabel('Score')\n",
    "plt.xlabel('Degree')\n",
    "plt.legend(loc=\"upper right\")"
   ]
  },
  {
   "cell_type": "markdown",
   "metadata": {},
   "source": [
    "Как мы видим, модель становится переобученной, чем выше степень в полиномиальной регрессии"
   ]
  },
  {
   "cell_type": "markdown",
   "metadata": {},
   "source": [
    "При степени 2 модель показывает для тестовой выборки результат лучше, чем для тренировчной, что говорит о самом оптимальном гиперпараметре среди всех, тем не менее даже при самой оптимальной степени в полиномиальной регресси, показатель метрики хуже, чем при простом методе svc"
   ]
  },
  {
   "cell_type": "markdown",
   "metadata": {},
   "source": [
    "### Исследуйте зависимость степени обученности модели от значения других гиперпараметров различных классификаторов, реализованных в sklearn. Постройте кривые обучения в зависимости от значения этих параметров.\n"
   ]
  },
  {
   "cell_type": "markdown",
   "metadata": {},
   "source": [
    "Возьмем модель LogisticRegression"
   ]
  },
  {
   "cell_type": "code",
   "execution_count": 37,
   "metadata": {},
   "outputs": [],
   "source": [
    "from sklearn.linear_model import LogisticRegression\n",
    "\n",
    "lr = LogisticRegression()"
   ]
  },
  {
   "cell_type": "code",
   "execution_count": 38,
   "metadata": {},
   "outputs": [
    {
     "data": {
      "text/plain": [
       "LogisticRegression(C=1.0, class_weight=None, dual=False, fit_intercept=True,\n",
       "                   intercept_scaling=1, l1_ratio=None, max_iter=100,\n",
       "                   multi_class='auto', n_jobs=None, penalty='l2',\n",
       "                   random_state=None, solver='lbfgs', tol=0.0001, verbose=0,\n",
       "                   warm_start=False)"
      ]
     },
     "execution_count": 38,
     "metadata": {},
     "output_type": "execute_result"
    }
   ],
   "source": [
    "lr.fit(X_train,y_train)"
   ]
  },
  {
   "cell_type": "code",
   "execution_count": 39,
   "metadata": {},
   "outputs": [
    {
     "name": "stdout",
     "output_type": "stream",
     "text": [
      "\u001b[1m Train score:\u001b[0m 0.89  \u001b[1m Test score:\u001b[0m 0.91\n",
      "\u001b[1m Train error:\u001b[0m 0.11  \u001b[1m Test error:\u001b[0m 0.09\n"
     ]
    }
   ],
   "source": [
    "predicted = lr.predict(X_test)\n",
    "\n",
    "err_train = np.mean(y_train != lr.predict(X_train))\n",
    "err_test = np.mean(y_test != lr.predict(X_test))\n",
    " \n",
    "print('\\033[1m Train score:\\033[0m',round(lr.score(X_train, y_train),2),' \\033[1m Test score:\\033[0m',round(lr.score(X_test, y_test),2))\n",
    "print('\\033[1m Train error:\\033[0m',round(err_train,2),' \\033[1m Test error:\\033[0m', round(err_test,2))\n",
    "\n"
   ]
  },
  {
   "cell_type": "code",
   "execution_count": 40,
   "metadata": {},
   "outputs": [
    {
     "data": {
      "text/plain": [
       "<matplotlib.legend.Legend at 0x7ffbef93ce50>"
      ]
     },
     "execution_count": 40,
     "metadata": {},
     "output_type": "execute_result"
    },
    {
     "data": {
      "image/png": "[encoded data removed]",
      "text/plain": [
       "<Figure size 720x360 with 1 Axes>"
      ]
     },
     "metadata": {
      "needs_background": "light"
     },
     "output_type": "display_data"
    }
   ],
   "source": [
    "training_scores = []\n",
    "test_scores = []\n",
    "numbers = []\n",
    " \n",
    "for i in np.linspace(20, len(X_train), 10):\n",
    "    \n",
    "    clf = LogisticRegression()\n",
    "    X = X_train[:int(i)]\n",
    "    y = y_train[:int(i)]\n",
    "    clf.fit(X, y)\n",
    "    \n",
    "    numbers.append(int(i))\n",
    "    training_scores.append(clf.score(X_train, y_train))\n",
    "    test_scores.append(clf.score(X_test, y_test))\n",
    "    \n",
    "plt.figure(figsize=(10, 5))\n",
    "plt.plot(numbers, training_scores, label=\"training scores\")\n",
    "plt.plot(numbers, test_scores, label=\"test scores\")\n",
    "plt.legend(loc=\"lower right\")"
   ]
  },
  {
   "cell_type": "markdown",
   "metadata": {},
   "source": [
    "Смотря на график, мы видим, что сначала модель недообучена, так как для тестовой выборки показатель хуже, чем для тренировочной. Далее при увеличении объема выборки  и до объема ~350 выборка хорошая, так как результат для тестовой выборки лучше тренировочной, а потом опять модель ухудшается, но становится переобученной"
   ]
  },
  {
   "cell_type": "code",
   "execution_count": 41,
   "metadata": {},
   "outputs": [],
   "source": [
    "scores_test = []\n",
    "scores_train = []\n",
    "cs =np.arange(0.001, 10, 0.005)\n",
    "for i in cs:\n",
    "    clf = LogisticRegression(C= i, max_iter=1000)\n",
    "    clf.fit(X_train,y_train)\n",
    "    scores_train.append(clf.score(X_train, y_train))\n",
    "    scores_test.append(clf.score(X_test, y_test))\n",
    "    \n",
    "#print(scores_test)    "
   ]
  },
  {
   "cell_type": "code",
   "execution_count": 42,
   "metadata": {},
   "outputs": [
    {
     "data": {
      "text/plain": [
       "<matplotlib.legend.Legend at 0x7ffbef9a2610>"
      ]
     },
     "execution_count": 42,
     "metadata": {},
     "output_type": "execute_result"
    },
    {
     "data": {
      "image/png": "[encoded data removed]",
      "text/plain": [
       "<Figure size 432x288 with 1 Axes>"
      ]
     },
     "metadata": {
      "needs_background": "light"
     },
     "output_type": "display_data"
    }
   ],
   "source": [
    "plt.plot(cs,scores_train,label=\"training scores\")\n",
    "plt.plot(cs,scores_test,label=\"testing scores\")\n",
    "plt.ylabel('Score')\n",
    "plt.xlabel('C-parametr')\n",
    "plt.legend(loc=\"lower right\")"
   ]
  },
  {
   "cell_type": "markdown",
   "metadata": {},
   "source": [
    "Настолько нестабильный график говорит о том, что качество модели очень зависит от оптимального параметра С: переобучение вначале, а потом при увеличении праметра С модель иногда обучается нормально; подходящий параметр С  подобрать можно с помощью GridSearch"
   ]
  },
  {
   "cell_type": "code",
   "execution_count": 43,
   "metadata": {},
   "outputs": [],
   "source": [
    "parameters = { 'C': (10, 1e-5) }\n",
    "\n",
    "\n",
    "\n",
    "gs_clf = GridSearchCV(lr, parameters, n_jobs=-1, cv=6)\n",
    "gs_clf = gs_clf.fit(X_train,y_train)\n"
   ]
  },
  {
   "cell_type": "code",
   "execution_count": 44,
   "metadata": {},
   "outputs": [
    {
     "data": {
      "text/plain": [
       "0.9230769230769231"
      ]
     },
     "execution_count": 44,
     "metadata": {},
     "output_type": "execute_result"
    }
   ],
   "source": [
    "gs_clf.score(X_train,y_train)"
   ]
  },
  {
   "cell_type": "markdown",
   "metadata": {},
   "source": [
    "### Повторите данное исследование на полном датасете. Сделайте выводы об оптимальной регулризации моделей.\n"
   ]
  },
  {
   "cell_type": "code",
   "execution_count": 45,
   "metadata": {},
   "outputs": [],
   "source": [
    "x = data.data\n",
    "y = data.target\n",
    "\n",
    "X_train, X_test, y_train, y_test = train_test_split(x, y, random_state=42)"
   ]
  },
  {
   "cell_type": "code",
   "execution_count": 46,
   "metadata": {},
   "outputs": [],
   "source": [
    "clf = SVC(kernel='linear')\n",
    "clf.fit(X_train,y_train)\n",
    "y_predict = clf.predict(X_test)"
   ]
  },
  {
   "cell_type": "code",
   "execution_count": 47,
   "metadata": {},
   "outputs": [
    {
     "name": "stdout",
     "output_type": "stream",
     "text": [
      "\u001b[1m Train score:\u001b[0m 0.97  \u001b[1m Test score:\u001b[0m 0.96\n",
      "\u001b[1m Train error:\u001b[0m 0.03  \u001b[1m Test error:\u001b[0m 0.04\n"
     ]
    }
   ],
   "source": [
    "err_train = np.mean(y_train != clf.predict(X_train))\n",
    "err_test = np.mean(y_test != clf.predict(X_test))\n",
    " \n",
    "print('\\033[1m Train score:\\033[0m',round(clf.score(X_train, y_train),2),' \\033[1m Test score:\\033[0m',round(clf.score(X_test, y_test),2))\n",
    "print('\\033[1m Train error:\\033[0m',round(err_train,2),' \\033[1m Test error:\\033[0m', round(err_test,2))"
   ]
  },
  {
   "cell_type": "markdown",
   "metadata": {},
   "source": [
    "Полный датасет одним и тем же методом обучения точнее нежели, чем такая же модель с уменьшенным количеством признаков. А значит, что были отброшены важные фичи для обучения"
   ]
  },
  {
   "cell_type": "code",
   "execution_count": 48,
   "metadata": {},
   "outputs": [
    {
     "data": {
      "text/plain": [
       "<matplotlib.legend.Legend at 0x7ffbee701dd0>"
      ]
     },
     "execution_count": 48,
     "metadata": {},
     "output_type": "execute_result"
    },
    {
     "data": {
      "image/png": "[encoded data removed]",
      "text/plain": [
       "<Figure size 720x360 with 1 Axes>"
      ]
     },
     "metadata": {
      "needs_background": "light"
     },
     "output_type": "display_data"
    }
   ],
   "source": [
    "training_scores = []\n",
    "test_scores = []\n",
    "numbers = []\n",
    " \n",
    "for i in np.linspace(20, len(X_train), 10):\n",
    "    \n",
    "    clf = SVC(C=5, kernel='linear')\n",
    "    X = X_train[:int(i)]\n",
    "    y = y_train[:int(i)]\n",
    "    clf.fit(X, y)\n",
    "    \n",
    "    numbers.append(int(i))\n",
    "    training_scores.append(clf.score(X_train, y_train))\n",
    "    test_scores.append(clf.score(X_test, y_test))\n",
    "    \n",
    "plt.figure(figsize=(10, 5))\n",
    "plt.plot(numbers, training_scores, label=\"training scores\")\n",
    "plt.plot(numbers, test_scores, label=\"test scores\")\n",
    "plt.legend(loc=\"lower right\")\n",
    "\n"
   ]
  },
  {
   "cell_type": "markdown",
   "metadata": {},
   "source": [
    "Как видно на графике, в зависимости от выборки меняется метрика качества: в начале модель являет переобученной, так как метрика качества тестовой выборки слишком хуже, чем тренировочная, а вот при увеличении объема выборки модель улучшает свою производительность"
   ]
  },
  {
   "cell_type": "markdown",
   "metadata": {},
   "source": [
    "#### Выведем коэффициенты перед признаками"
   ]
  },
  {
   "cell_type": "code",
   "execution_count": 49,
   "metadata": {},
   "outputs": [
    {
     "name": "stdout",
     "output_type": "stream",
     "text": [
      "mean radius -  2.58582980198436\n",
      "mean texture -  0.09724835427403278\n",
      "mean perimeter -  -0.5272891171965313\n",
      "mean area -  0.018928269641378392\n",
      "mean smoothness -  -0.47961708794138147\n",
      "mean compactness -  -0.5095376004005503\n",
      "mean concavity -  -1.6224749127527343\n",
      "mean concave points -  -1.071893269076559\n",
      "mean symmetry -  -0.8324943735395004\n",
      "mean fractal dimension -  -0.08063824264259956\n",
      "radius error -  -0.5805769841516797\n",
      "texture error -  2.9603739074017814\n",
      "perimeter error -  0.6448634684948549\n",
      "area error -  -0.17871771129038194\n",
      "smoothness error -  -0.08929839201329207\n",
      "compactness error -  0.2400856712846136\n",
      "concavity error -  -0.12978124120907722\n",
      "concave points error -  -0.10048912360334741\n",
      "symmetry error -  -0.16027536742861415\n",
      "fractal dimension error -  0.04627972804774737\n",
      "worst radius -  0.6035643779879685\n",
      "worst texture -  -0.4656859958314996\n",
      "worst perimeter -  0.07009134191994804\n",
      "worst area -  -0.01991177341267303\n",
      "worst smoothness -  -1.0494616528960001\n",
      "worst compactness -  -0.7531155492826718\n",
      "worst concavity -  -3.381320139161168\n",
      "worst concave points -  -1.3732077481112146\n",
      "worst symmetry -  -3.472773822882989\n",
      "worst fractal dimension -  -0.13661323536198122\n"
     ]
    }
   ],
   "source": [
    "coefs = clf.coef_\n",
    "names = data.feature_names\n",
    "\n",
    "\n",
    "for i in zip(names,coefs[0]):\n",
    "    print(' -  '.join(map(lambda x: str(x),i)))"
   ]
  },
  {
   "cell_type": "markdown",
   "metadata": {},
   "source": [
    "Есть коэффициенты, веса перед которыми очень малы, давайте попробуем с помощью алгоритма l1 (lasso) провести регуляризацию для определения весов для более точной модели"
   ]
  },
  {
   "cell_type": "code",
   "execution_count": 50,
   "metadata": {},
   "outputs": [],
   "source": [
    "from sklearn.linear_model import Lasso"
   ]
  },
  {
   "cell_type": "code",
   "execution_count": 51,
   "metadata": {},
   "outputs": [],
   "source": [
    "lasso = Lasso(random_state=0, max_iter=40000)\n",
    "alphas = np.logspace(-4, -0.5, 30)\n",
    "\n",
    "tuned_parameters = [{'alpha': alphas}]\n",
    "n_folds = 5\n",
    "\n",
    "clf = GridSearchCV(lasso, tuned_parameters, cv=n_folds, refit=False)\n",
    "clf.fit(X_train, y_train)\n",
    "scores = clf.cv_results_['mean_test_score']\n",
    "scores_std = clf.cv_results_['std_test_score']\n"
   ]
  },
  {
   "cell_type": "code",
   "execution_count": 52,
   "metadata": {},
   "outputs": [
    {
     "data": {
      "text/plain": [
       "Text(0.5, 0, 'alpha')"
      ]
     },
     "execution_count": 52,
     "metadata": {},
     "output_type": "execute_result"
    },
    {
     "data": {
      "image/png": "[encoded data removed]",
      "text/plain": [
       "<Figure size 576x432 with 1 Axes>"
      ]
     },
     "metadata": {
      "needs_background": "light"
     },
     "output_type": "display_data"
    }
   ],
   "source": [
    "plt.figure().set_size_inches(8, 6)\n",
    "plt.semilogx(alphas, scores)\n",
    "std_error = scores_std / np.sqrt(n_folds)\n",
    "\n",
    "\n",
    "\n",
    "plt.ylabel('CV score')\n",
    "plt.xlabel('alpha')\n"
   ]
  },
  {
   "cell_type": "code",
   "execution_count": 53,
   "metadata": {},
   "outputs": [
    {
     "data": {
      "text/plain": [
       "{'alpha': 0.0001}"
      ]
     },
     "execution_count": 53,
     "metadata": {},
     "output_type": "execute_result"
    }
   ],
   "source": [
    "clf.best_params_"
   ]
  },
  {
   "cell_type": "code",
   "execution_count": 54,
   "metadata": {},
   "outputs": [
    {
     "data": {
      "text/plain": [
       "0.7033404906920737"
      ]
     },
     "execution_count": 54,
     "metadata": {},
     "output_type": "execute_result"
    }
   ],
   "source": [
    "clf.best_score_"
   ]
  },
  {
   "cell_type": "markdown",
   "metadata": {},
   "source": [
    "Как мы видим, при использовании всех признаков (то есть полного датасета) ухудшается качество модели, самая лучшая модель получается при alpha=0.0001"
   ]
  },
  {
   "cell_type": "markdown",
   "metadata": {},
   "source": [
    "### Сделайте выводы об оптимальной регулризации моделей.\n"
   ]
  },
  {
   "cell_type": "markdown",
   "metadata": {},
   "source": [
    "Никогда нельзя знать наверняка, что нужно изменить для оптимальной регуляризации модели. Это может быть даже не одно действие, так что надо пробовать перебирать возможные способы для того, чтоьбы улучшить модель"
   ]
  },
  {
   "cell_type": "code",
   "execution_count": null,
   "metadata": {},
   "outputs": [],
   "source": []
  }
 ],
 "metadata": {
  "kernelspec": {
   "display_name": "Python 3",
   "language": "python",
   "name": "python3"
  },
  "language_info": {
   "codemirror_mode": {
    "name": "ipython",
    "version": 3
   },
   "file_extension": ".py",
   "mimetype": "text/x-python",
   "name": "python",
   "nbconvert_exporter": "python",
   "pygments_lexer": "ipython3",
   "version": "3.7.6"
  }
 },
 "nbformat": 4,
 "nbformat_minor": 4
}
