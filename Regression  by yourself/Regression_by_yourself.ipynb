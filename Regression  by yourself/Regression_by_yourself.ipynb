{
 "cells": [
  {
   "cell_type": "code",
   "execution_count": 428,
   "metadata": {},
   "outputs": [],
   "source": [
    "import numpy as np\n",
    "import pandas as pd\n",
    "import random\n",
    "import matplotlib.pyplot as plt\n",
    "from sklearn.linear_model import LinearRegression"
   ]
  },
  {
   "cell_type": "code",
   "execution_count": 429,
   "metadata": {},
   "outputs": [],
   "source": [
    "sber = pd.read_csv('SBER_101001_171001.txt')\n",
    "mvid = pd.read_csv('MVID_101001_171001.txt')"
   ]
  },
  {
   "cell_type": "code",
   "execution_count": 430,
   "metadata": {},
   "outputs": [
    {
     "data": {
      "text/html": [
       "<div>\n",
       "<style scoped>\n",
       "    .dataframe tbody tr th:only-of-type {\n",
       "        vertical-align: middle;\n",
       "    }\n",
       "\n",
       "    .dataframe tbody tr th {\n",
       "        vertical-align: top;\n",
       "    }\n",
       "\n",
       "    .dataframe thead th {\n",
       "        text-align: right;\n",
       "    }\n",
       "</style>\n",
       "<table border=\"1\" class=\"dataframe\">\n",
       "  <thead>\n",
       "    <tr style=\"text-align: right;\">\n",
       "      <th></th>\n",
       "      <th>&lt;TICKER&gt;</th>\n",
       "      <th>&lt;PER&gt;</th>\n",
       "      <th>&lt;DATE&gt;</th>\n",
       "      <th>&lt;TIME&gt;</th>\n",
       "      <th>&lt;CLOSE&gt;</th>\n",
       "      <th>&lt;VOL&gt;</th>\n",
       "    </tr>\n",
       "  </thead>\n",
       "  <tbody>\n",
       "    <tr>\n",
       "      <th>0</th>\n",
       "      <td>MVID</td>\n",
       "      <td>D</td>\n",
       "      <td>20101001</td>\n",
       "      <td>0</td>\n",
       "      <td>194.38</td>\n",
       "      <td>19406</td>\n",
       "    </tr>\n",
       "    <tr>\n",
       "      <th>1</th>\n",
       "      <td>MVID</td>\n",
       "      <td>D</td>\n",
       "      <td>20101004</td>\n",
       "      <td>0</td>\n",
       "      <td>190.00</td>\n",
       "      <td>31039</td>\n",
       "    </tr>\n",
       "    <tr>\n",
       "      <th>2</th>\n",
       "      <td>MVID</td>\n",
       "      <td>D</td>\n",
       "      <td>20101005</td>\n",
       "      <td>0</td>\n",
       "      <td>187.00</td>\n",
       "      <td>17651</td>\n",
       "    </tr>\n",
       "    <tr>\n",
       "      <th>3</th>\n",
       "      <td>MVID</td>\n",
       "      <td>D</td>\n",
       "      <td>20101006</td>\n",
       "      <td>0</td>\n",
       "      <td>190.04</td>\n",
       "      <td>36482</td>\n",
       "    </tr>\n",
       "    <tr>\n",
       "      <th>4</th>\n",
       "      <td>MVID</td>\n",
       "      <td>D</td>\n",
       "      <td>20101007</td>\n",
       "      <td>0</td>\n",
       "      <td>199.85</td>\n",
       "      <td>204248</td>\n",
       "    </tr>\n",
       "  </tbody>\n",
       "</table>\n",
       "</div>"
      ],
      "text/plain": [
       "  <TICKER> <PER>    <DATE>  <TIME>  <CLOSE>   <VOL>\n",
       "0     MVID     D  20101001       0   194.38   19406\n",
       "1     MVID     D  20101004       0   190.00   31039\n",
       "2     MVID     D  20101005       0   187.00   17651\n",
       "3     MVID     D  20101006       0   190.04   36482\n",
       "4     MVID     D  20101007       0   199.85  204248"
      ]
     },
     "execution_count": 430,
     "metadata": {},
     "output_type": "execute_result"
    }
   ],
   "source": [
    "mvid.head()"
   ]
  },
  {
   "cell_type": "code",
   "execution_count": 431,
   "metadata": {},
   "outputs": [
    {
     "data": {
      "text/html": [
       "<div>\n",
       "<style scoped>\n",
       "    .dataframe tbody tr th:only-of-type {\n",
       "        vertical-align: middle;\n",
       "    }\n",
       "\n",
       "    .dataframe tbody tr th {\n",
       "        vertical-align: top;\n",
       "    }\n",
       "\n",
       "    .dataframe thead th {\n",
       "        text-align: right;\n",
       "    }\n",
       "</style>\n",
       "<table border=\"1\" class=\"dataframe\">\n",
       "  <thead>\n",
       "    <tr style=\"text-align: right;\">\n",
       "      <th></th>\n",
       "      <th>&lt;TICKER&gt;</th>\n",
       "      <th>&lt;PER&gt;</th>\n",
       "      <th>&lt;DATE&gt;</th>\n",
       "      <th>&lt;TIME&gt;</th>\n",
       "      <th>&lt;CLOSE&gt;</th>\n",
       "      <th>&lt;VOL&gt;</th>\n",
       "    </tr>\n",
       "  </thead>\n",
       "  <tbody>\n",
       "    <tr>\n",
       "      <th>0</th>\n",
       "      <td>SBER</td>\n",
       "      <td>D</td>\n",
       "      <td>20101001</td>\n",
       "      <td>0</td>\n",
       "      <td>89.09</td>\n",
       "      <td>332429890</td>\n",
       "    </tr>\n",
       "    <tr>\n",
       "      <th>1</th>\n",
       "      <td>SBER</td>\n",
       "      <td>D</td>\n",
       "      <td>20101004</td>\n",
       "      <td>0</td>\n",
       "      <td>89.88</td>\n",
       "      <td>194032721</td>\n",
       "    </tr>\n",
       "    <tr>\n",
       "      <th>2</th>\n",
       "      <td>SBER</td>\n",
       "      <td>D</td>\n",
       "      <td>20101005</td>\n",
       "      <td>0</td>\n",
       "      <td>91.97</td>\n",
       "      <td>198775753</td>\n",
       "    </tr>\n",
       "    <tr>\n",
       "      <th>3</th>\n",
       "      <td>SBER</td>\n",
       "      <td>D</td>\n",
       "      <td>20101006</td>\n",
       "      <td>0</td>\n",
       "      <td>91.20</td>\n",
       "      <td>210406027</td>\n",
       "    </tr>\n",
       "    <tr>\n",
       "      <th>4</th>\n",
       "      <td>SBER</td>\n",
       "      <td>D</td>\n",
       "      <td>20101007</td>\n",
       "      <td>0</td>\n",
       "      <td>90.40</td>\n",
       "      <td>145137617</td>\n",
       "    </tr>\n",
       "  </tbody>\n",
       "</table>\n",
       "</div>"
      ],
      "text/plain": [
       "  <TICKER> <PER>    <DATE>  <TIME>  <CLOSE>      <VOL>\n",
       "0     SBER     D  20101001       0    89.09  332429890\n",
       "1     SBER     D  20101004       0    89.88  194032721\n",
       "2     SBER     D  20101005       0    91.97  198775753\n",
       "3     SBER     D  20101006       0    91.20  210406027\n",
       "4     SBER     D  20101007       0    90.40  145137617"
      ]
     },
     "execution_count": 431,
     "metadata": {},
     "output_type": "execute_result"
    }
   ],
   "source": [
    "sber.head()"
   ]
  },
  {
   "cell_type": "code",
   "execution_count": 432,
   "metadata": {},
   "outputs": [
    {
     "data": {
      "text/plain": [
       "((1758, 6), (1758, 6))"
      ]
     },
     "execution_count": 432,
     "metadata": {},
     "output_type": "execute_result"
    }
   ],
   "source": [
    "mvid.shape, sber.shape"
   ]
  },
  {
   "cell_type": "code",
   "execution_count": 433,
   "metadata": {},
   "outputs": [
    {
     "data": {
      "text/html": [
       "<div>\n",
       "<style scoped>\n",
       "    .dataframe tbody tr th:only-of-type {\n",
       "        vertical-align: middle;\n",
       "    }\n",
       "\n",
       "    .dataframe tbody tr th {\n",
       "        vertical-align: top;\n",
       "    }\n",
       "\n",
       "    .dataframe thead th {\n",
       "        text-align: right;\n",
       "    }\n",
       "</style>\n",
       "<table border=\"1\" class=\"dataframe\">\n",
       "  <thead>\n",
       "    <tr style=\"text-align: right;\">\n",
       "      <th></th>\n",
       "      <th>&lt;TICKER&gt;_x</th>\n",
       "      <th>&lt;PER&gt;_x</th>\n",
       "      <th>&lt;DATE&gt;</th>\n",
       "      <th>&lt;TIME&gt;_x</th>\n",
       "      <th>&lt;CLOSE&gt;_x</th>\n",
       "      <th>&lt;VOL&gt;_x</th>\n",
       "      <th>&lt;TICKER&gt;_y</th>\n",
       "      <th>&lt;PER&gt;_y</th>\n",
       "      <th>&lt;TIME&gt;_y</th>\n",
       "      <th>&lt;CLOSE&gt;_y</th>\n",
       "      <th>&lt;VOL&gt;_y</th>\n",
       "    </tr>\n",
       "  </thead>\n",
       "  <tbody>\n",
       "    <tr>\n",
       "      <th>0</th>\n",
       "      <td>SBER</td>\n",
       "      <td>D</td>\n",
       "      <td>20101001</td>\n",
       "      <td>0</td>\n",
       "      <td>89.09</td>\n",
       "      <td>332429890</td>\n",
       "      <td>MVID</td>\n",
       "      <td>D</td>\n",
       "      <td>0</td>\n",
       "      <td>194.38</td>\n",
       "      <td>19406</td>\n",
       "    </tr>\n",
       "    <tr>\n",
       "      <th>1</th>\n",
       "      <td>SBER</td>\n",
       "      <td>D</td>\n",
       "      <td>20101004</td>\n",
       "      <td>0</td>\n",
       "      <td>89.88</td>\n",
       "      <td>194032721</td>\n",
       "      <td>MVID</td>\n",
       "      <td>D</td>\n",
       "      <td>0</td>\n",
       "      <td>190.00</td>\n",
       "      <td>31039</td>\n",
       "    </tr>\n",
       "    <tr>\n",
       "      <th>2</th>\n",
       "      <td>SBER</td>\n",
       "      <td>D</td>\n",
       "      <td>20101005</td>\n",
       "      <td>0</td>\n",
       "      <td>91.97</td>\n",
       "      <td>198775753</td>\n",
       "      <td>MVID</td>\n",
       "      <td>D</td>\n",
       "      <td>0</td>\n",
       "      <td>187.00</td>\n",
       "      <td>17651</td>\n",
       "    </tr>\n",
       "    <tr>\n",
       "      <th>3</th>\n",
       "      <td>SBER</td>\n",
       "      <td>D</td>\n",
       "      <td>20101006</td>\n",
       "      <td>0</td>\n",
       "      <td>91.20</td>\n",
       "      <td>210406027</td>\n",
       "      <td>MVID</td>\n",
       "      <td>D</td>\n",
       "      <td>0</td>\n",
       "      <td>190.04</td>\n",
       "      <td>36482</td>\n",
       "    </tr>\n",
       "    <tr>\n",
       "      <th>4</th>\n",
       "      <td>SBER</td>\n",
       "      <td>D</td>\n",
       "      <td>20101007</td>\n",
       "      <td>0</td>\n",
       "      <td>90.40</td>\n",
       "      <td>145137617</td>\n",
       "      <td>MVID</td>\n",
       "      <td>D</td>\n",
       "      <td>0</td>\n",
       "      <td>199.85</td>\n",
       "      <td>204248</td>\n",
       "    </tr>\n",
       "    <tr>\n",
       "      <th>5</th>\n",
       "      <td>SBER</td>\n",
       "      <td>D</td>\n",
       "      <td>20101008</td>\n",
       "      <td>0</td>\n",
       "      <td>90.50</td>\n",
       "      <td>125230555</td>\n",
       "      <td>MVID</td>\n",
       "      <td>D</td>\n",
       "      <td>0</td>\n",
       "      <td>197.71</td>\n",
       "      <td>116703</td>\n",
       "    </tr>\n",
       "  </tbody>\n",
       "</table>\n",
       "</div>"
      ],
      "text/plain": [
       "  <TICKER>_x <PER>_x    <DATE>  <TIME>_x  <CLOSE>_x    <VOL>_x <TICKER>_y  \\\n",
       "0       SBER       D  20101001         0      89.09  332429890       MVID   \n",
       "1       SBER       D  20101004         0      89.88  194032721       MVID   \n",
       "2       SBER       D  20101005         0      91.97  198775753       MVID   \n",
       "3       SBER       D  20101006         0      91.20  210406027       MVID   \n",
       "4       SBER       D  20101007         0      90.40  145137617       MVID   \n",
       "5       SBER       D  20101008         0      90.50  125230555       MVID   \n",
       "\n",
       "  <PER>_y  <TIME>_y  <CLOSE>_y  <VOL>_y  \n",
       "0       D         0     194.38    19406  \n",
       "1       D         0     190.00    31039  \n",
       "2       D         0     187.00    17651  \n",
       "3       D         0     190.04    36482  \n",
       "4       D         0     199.85   204248  \n",
       "5       D         0     197.71   116703  "
      ]
     },
     "execution_count": 433,
     "metadata": {},
     "output_type": "execute_result"
    }
   ],
   "source": [
    "#агрегация данных\n",
    "res  = pd.merge(sber,mvid, on='<DATE>') #merge simillar to join in sql \n",
    "res.head(6)"
   ]
  },
  {
   "cell_type": "code",
   "execution_count": 434,
   "metadata": {},
   "outputs": [
    {
     "data": {
      "text/html": [
       "<div>\n",
       "<style scoped>\n",
       "    .dataframe tbody tr th:only-of-type {\n",
       "        vertical-align: middle;\n",
       "    }\n",
       "\n",
       "    .dataframe tbody tr th {\n",
       "        vertical-align: top;\n",
       "    }\n",
       "\n",
       "    .dataframe thead th {\n",
       "        text-align: right;\n",
       "    }\n",
       "</style>\n",
       "<table border=\"1\" class=\"dataframe\">\n",
       "  <thead>\n",
       "    <tr style=\"text-align: right;\">\n",
       "      <th></th>\n",
       "      <th>&lt;DATE&gt;</th>\n",
       "      <th>&lt;TIME&gt;_x</th>\n",
       "      <th>&lt;CLOSE&gt;_x</th>\n",
       "      <th>&lt;VOL&gt;_x</th>\n",
       "      <th>&lt;TIME&gt;_y</th>\n",
       "      <th>&lt;CLOSE&gt;_y</th>\n",
       "      <th>&lt;VOL&gt;_y</th>\n",
       "    </tr>\n",
       "  </thead>\n",
       "  <tbody>\n",
       "    <tr>\n",
       "      <th>count</th>\n",
       "      <td>1.758000e+03</td>\n",
       "      <td>1758.0</td>\n",
       "      <td>1758.000000</td>\n",
       "      <td>1.758000e+03</td>\n",
       "      <td>1758.0</td>\n",
       "      <td>1758.000000</td>\n",
       "      <td>1.758000e+03</td>\n",
       "    </tr>\n",
       "    <tr>\n",
       "      <th>mean</th>\n",
       "      <td>2.013818e+07</td>\n",
       "      <td>0.0</td>\n",
       "      <td>103.127878</td>\n",
       "      <td>1.206129e+08</td>\n",
       "      <td>0.0</td>\n",
       "      <td>261.890666</td>\n",
       "      <td>1.183061e+05</td>\n",
       "    </tr>\n",
       "    <tr>\n",
       "      <th>std</th>\n",
       "      <td>2.043505e+04</td>\n",
       "      <td>0.0</td>\n",
       "      <td>30.083143</td>\n",
       "      <td>8.364783e+07</td>\n",
       "      <td>0.0</td>\n",
       "      <td>62.918185</td>\n",
       "      <td>2.965367e+05</td>\n",
       "    </tr>\n",
       "    <tr>\n",
       "      <th>min</th>\n",
       "      <td>2.010100e+07</td>\n",
       "      <td>0.0</td>\n",
       "      <td>53.500000</td>\n",
       "      <td>1.409153e+07</td>\n",
       "      <td>0.0</td>\n",
       "      <td>123.000000</td>\n",
       "      <td>3.300000e+02</td>\n",
       "    </tr>\n",
       "    <tr>\n",
       "      <th>25%</th>\n",
       "      <td>2.012070e+07</td>\n",
       "      <td>0.0</td>\n",
       "      <td>81.985000</td>\n",
       "      <td>6.452312e+07</td>\n",
       "      <td>0.0</td>\n",
       "      <td>215.485000</td>\n",
       "      <td>3.211000e+04</td>\n",
       "    </tr>\n",
       "    <tr>\n",
       "      <th>50%</th>\n",
       "      <td>2.014040e+07</td>\n",
       "      <td>0.0</td>\n",
       "      <td>96.025000</td>\n",
       "      <td>9.901520e+07</td>\n",
       "      <td>0.0</td>\n",
       "      <td>253.125000</td>\n",
       "      <td>6.053500e+04</td>\n",
       "    </tr>\n",
       "    <tr>\n",
       "      <th>75%</th>\n",
       "      <td>2.016010e+07</td>\n",
       "      <td>0.0</td>\n",
       "      <td>106.892500</td>\n",
       "      <td>1.505951e+08</td>\n",
       "      <td>0.0</td>\n",
       "      <td>280.657500</td>\n",
       "      <td>1.154075e+05</td>\n",
       "    </tr>\n",
       "    <tr>\n",
       "      <th>max</th>\n",
       "      <td>2.017100e+07</td>\n",
       "      <td>0.0</td>\n",
       "      <td>193.700000</td>\n",
       "      <td>6.190570e+08</td>\n",
       "      <td>0.0</td>\n",
       "      <td>432.400000</td>\n",
       "      <td>5.942750e+06</td>\n",
       "    </tr>\n",
       "  </tbody>\n",
       "</table>\n",
       "</div>"
      ],
      "text/plain": [
       "             <DATE>  <TIME>_x    <CLOSE>_x       <VOL>_x  <TIME>_y  \\\n",
       "count  1.758000e+03    1758.0  1758.000000  1.758000e+03    1758.0   \n",
       "mean   2.013818e+07       0.0   103.127878  1.206129e+08       0.0   \n",
       "std    2.043505e+04       0.0    30.083143  8.364783e+07       0.0   \n",
       "min    2.010100e+07       0.0    53.500000  1.409153e+07       0.0   \n",
       "25%    2.012070e+07       0.0    81.985000  6.452312e+07       0.0   \n",
       "50%    2.014040e+07       0.0    96.025000  9.901520e+07       0.0   \n",
       "75%    2.016010e+07       0.0   106.892500  1.505951e+08       0.0   \n",
       "max    2.017100e+07       0.0   193.700000  6.190570e+08       0.0   \n",
       "\n",
       "         <CLOSE>_y       <VOL>_y  \n",
       "count  1758.000000  1.758000e+03  \n",
       "mean    261.890666  1.183061e+05  \n",
       "std      62.918185  2.965367e+05  \n",
       "min     123.000000  3.300000e+02  \n",
       "25%     215.485000  3.211000e+04  \n",
       "50%     253.125000  6.053500e+04  \n",
       "75%     280.657500  1.154075e+05  \n",
       "max     432.400000  5.942750e+06  "
      ]
     },
     "execution_count": 434,
     "metadata": {},
     "output_type": "execute_result"
    }
   ],
   "source": [
    "res.describe()"
   ]
  },
  {
   "cell_type": "code",
   "execution_count": 435,
   "metadata": {},
   "outputs": [],
   "source": [
    "X = res['<CLOSE>_x']\n",
    "Y = res['<CLOSE>_y']\n",
    "\n",
    "#для нормализации узнаем мин и макс значения выборки Х\n",
    "x_min = res['<CLOSE>_x'].min()\n",
    "x_max = res['<CLOSE>_x'].max()"
   ]
  },
  {
   "cell_type": "code",
   "execution_count": 436,
   "metadata": {},
   "outputs": [
    {
     "data": {
      "image/png": "[encoded data removed]",
      "text/plain": [
       "<Figure size 432x288 with 1 Axes>"
      ]
     },
     "metadata": {
      "needs_background": "light"
     },
     "output_type": "display_data"
    }
   ],
   "source": [
    "plt.figure()\n",
    "plt.scatter(X,Y, color='green')\n",
    "plt.show()\n"
   ]
  },
  {
   "cell_type": "code",
   "execution_count": 437,
   "metadata": {},
   "outputs": [],
   "source": [
    "class Model:\n",
    "    def __init__(self):\n",
    "        self.b0 = 0\n",
    "        self.b1 = 0\n",
    "    def predict(self,x):\n",
    "        \n",
    "        #сделать нормализацию данных\n",
    "        ''' x'=(x-xmin)/(xmax-xmin) '''\n",
    "        x_norm = (x-x_min)/(x_max-x_min)\n",
    "        \n",
    "        return self.b0 + self.b1 * x_norm\n",
    "    \n",
    "    def error(self,x,y):\n",
    "        return sum((self.predict(x) - y)** 2) / (2*len(x))\n",
    "    \n",
    "    def fit(self,x,y): #метод градиентного спуска\n",
    "    \n",
    "        \n",
    "        #градиент функций\n",
    "        alpha = 0.9\n",
    "        x_norm = (x-x_min)/(x_max-x_min)\n",
    "        errors = []\n",
    "        steps = list(range(100))\n",
    "        for _ in steps:\n",
    "            dj0 = sum(self.predict(x) - y )/ len(x_norm)\n",
    "            dj1 = sum((self.predict(x) - y)* x_norm) /len(x_norm)\n",
    "            #приближаемся к оптимуму \n",
    "            self.b0 = self.b0 - alpha*dj0\n",
    "            self.b1 = self.b1 - alpha*dj1\n",
    "            \n",
    "            #график ошибок\n",
    "            errors.append(self.error(x,y))\n",
    "            steps\n",
    "        return steps,errors\n",
    "    \n",
    "   \n",
    "        \n",
    "         \n",
    "        "
   ]
  },
  {
   "cell_type": "code",
   "execution_count": 438,
   "metadata": {},
   "outputs": [],
   "source": [
    "model = Model()\n",
    "steps,errors = model.fit(X,Y)"
   ]
  },
  {
   "cell_type": "code",
   "execution_count": 439,
   "metadata": {},
   "outputs": [
    {
     "data": {
      "image/png": "[encoded data removed]",
      "text/plain": [
       "<Figure size 432x288 with 1 Axes>"
      ]
     },
     "metadata": {
      "needs_background": "light"
     },
     "output_type": "display_data"
    }
   ],
   "source": [
    "#линию регрессии добавляем на график\n",
    "X0 = np.linspace(60,200,100)\n",
    "Y0 = model.predict(X0)\n",
    "\n",
    "plt.figure()\n",
    "plt.scatter(X,Y, color='green')\n",
    "plt.plot(X0, Y0, color='red')\n",
    "plt.show()"
   ]
  },
  {
   "cell_type": "code",
   "execution_count": 440,
   "metadata": {},
   "outputs": [
    {
     "data": {
      "text/plain": [
       "176.3513647805667"
      ]
     },
     "execution_count": 440,
     "metadata": {},
     "output_type": "execute_result"
    }
   ],
   "source": [
    "model.error(X,Y)"
   ]
  },
  {
   "cell_type": "code",
   "execution_count": 441,
   "metadata": {},
   "outputs": [
    {
     "data": {
      "image/png": "[encoded data removed]",
      "text/plain": [
       "<Figure size 432x288 with 1 Axes>"
      ]
     },
     "metadata": {
      "needs_background": "light"
     },
     "output_type": "display_data"
    }
   ],
   "source": [
    "#график изменения подсчета ошибки\n",
    "plt.figure()\n",
    "plt.plot(steps,errors, color='BLUE')\n",
    "plt.show()"
   ]
  },
  {
   "cell_type": "markdown",
   "metadata": {},
   "source": [
    "### 2.Постройте модель регрессии на другой паре инструментов.\n"
   ]
  },
  {
   "cell_type": "code",
   "execution_count": 442,
   "metadata": {},
   "outputs": [],
   "source": [
    "\n",
    "        \n",
    "        \n",
    "class Model:\n",
    "    def __init__(self):\n",
    "        self.b0 = 0\n",
    "        self.b1 = 0\n",
    "    def predict(self,x):\n",
    "        \n",
    "        #сделать нормализацию данных\n",
    "        ''' x'=(x-xmin)/(xmax-xmin) '''\n",
    "        x_norm = (x-x_min)/(x_max-x_min)\n",
    "        \n",
    "        return self.b0 + self.b1 * x_norm\n",
    "    \n",
    "    def error(self,x,y):\n",
    "        return sum((self.predict(x) - y)** 2) / (2*len(x))\n",
    "    \n",
    "    def fit(self,x,y): #метод градиентного спуска\n",
    "    \n",
    "        \n",
    "        #градиент функций\n",
    "        alpha = 0.0011\n",
    "        x_norm = (x-x_min)/(x_max-x_min)\n",
    "        errors = []\n",
    "        steps = list(range(100))\n",
    "        for _ in steps:\n",
    "            dj0 = sum(self.predict(x) - y )/ len(x_norm)\n",
    "            dj1 = sum((self.predict(x) - y)* x_norm) /len(x_norm)\n",
    "            #приближаемся к оптимуму \n",
    "            self.b0 = self.b0 - alpha*dj0\n",
    "            self.b1 = self.b1 - alpha*dj1\n",
    "            \n",
    "            #график ошибок\n",
    "            errors.append(self.error(x,y))\n",
    "            steps\n",
    "        return steps,errors\n",
    "        "
   ]
  },
  {
   "cell_type": "code",
   "execution_count": 443,
   "metadata": {},
   "outputs": [],
   "source": [
    "\n",
    "yndx = pd.read_csv('YNDX_101001_171001.txt')\n"
   ]
  },
  {
   "cell_type": "code",
   "execution_count": 444,
   "metadata": {},
   "outputs": [
    {
     "data": {
      "text/html": [
       "<div>\n",
       "<style scoped>\n",
       "    .dataframe tbody tr th:only-of-type {\n",
       "        vertical-align: middle;\n",
       "    }\n",
       "\n",
       "    .dataframe tbody tr th {\n",
       "        vertical-align: top;\n",
       "    }\n",
       "\n",
       "    .dataframe thead th {\n",
       "        text-align: right;\n",
       "    }\n",
       "</style>\n",
       "<table border=\"1\" class=\"dataframe\">\n",
       "  <thead>\n",
       "    <tr style=\"text-align: right;\">\n",
       "      <th></th>\n",
       "      <th>&lt;TICKER&gt;</th>\n",
       "      <th>&lt;PER&gt;</th>\n",
       "      <th>&lt;DATE&gt;</th>\n",
       "      <th>&lt;TIME&gt;</th>\n",
       "      <th>&lt;CLOSE&gt;</th>\n",
       "      <th>&lt;VOL&gt;</th>\n",
       "    </tr>\n",
       "  </thead>\n",
       "  <tbody>\n",
       "    <tr>\n",
       "      <th>0</th>\n",
       "      <td>YNDX</td>\n",
       "      <td>D</td>\n",
       "      <td>20140604</td>\n",
       "      <td>0</td>\n",
       "      <td>1170.0</td>\n",
       "      <td>35146</td>\n",
       "    </tr>\n",
       "    <tr>\n",
       "      <th>1</th>\n",
       "      <td>YNDX</td>\n",
       "      <td>D</td>\n",
       "      <td>20140605</td>\n",
       "      <td>0</td>\n",
       "      <td>1145.1</td>\n",
       "      <td>24973</td>\n",
       "    </tr>\n",
       "    <tr>\n",
       "      <th>2</th>\n",
       "      <td>YNDX</td>\n",
       "      <td>D</td>\n",
       "      <td>20140606</td>\n",
       "      <td>0</td>\n",
       "      <td>1163.0</td>\n",
       "      <td>7889</td>\n",
       "    </tr>\n",
       "    <tr>\n",
       "      <th>3</th>\n",
       "      <td>YNDX</td>\n",
       "      <td>D</td>\n",
       "      <td>20140609</td>\n",
       "      <td>0</td>\n",
       "      <td>1172.1</td>\n",
       "      <td>7304</td>\n",
       "    </tr>\n",
       "    <tr>\n",
       "      <th>4</th>\n",
       "      <td>YNDX</td>\n",
       "      <td>D</td>\n",
       "      <td>20140610</td>\n",
       "      <td>0</td>\n",
       "      <td>1170.0</td>\n",
       "      <td>3207</td>\n",
       "    </tr>\n",
       "  </tbody>\n",
       "</table>\n",
       "</div>"
      ],
      "text/plain": [
       "  <TICKER> <PER>    <DATE>  <TIME>  <CLOSE>  <VOL>\n",
       "0     YNDX     D  20140604       0   1170.0  35146\n",
       "1     YNDX     D  20140605       0   1145.1  24973\n",
       "2     YNDX     D  20140606       0   1163.0   7889\n",
       "3     YNDX     D  20140609       0   1172.1   7304\n",
       "4     YNDX     D  20140610       0   1170.0   3207"
      ]
     },
     "execution_count": 444,
     "metadata": {},
     "output_type": "execute_result"
    }
   ],
   "source": [
    "yndx.head()"
   ]
  },
  {
   "cell_type": "code",
   "execution_count": 445,
   "metadata": {},
   "outputs": [
    {
     "data": {
      "text/plain": [
       "((838, 6), (1758, 6))"
      ]
     },
     "execution_count": 445,
     "metadata": {},
     "output_type": "execute_result"
    }
   ],
   "source": [
    "yndx.shape, sber.shape"
   ]
  },
  {
   "cell_type": "code",
   "execution_count": 446,
   "metadata": {},
   "outputs": [],
   "source": [
    "# агрегируем данные\n",
    "res2  = pd.merge(yndx, sber, on='<DATE>')"
   ]
  },
  {
   "cell_type": "code",
   "execution_count": 447,
   "metadata": {},
   "outputs": [
    {
     "data": {
      "text/html": [
       "<div>\n",
       "<style scoped>\n",
       "    .dataframe tbody tr th:only-of-type {\n",
       "        vertical-align: middle;\n",
       "    }\n",
       "\n",
       "    .dataframe tbody tr th {\n",
       "        vertical-align: top;\n",
       "    }\n",
       "\n",
       "    .dataframe thead th {\n",
       "        text-align: right;\n",
       "    }\n",
       "</style>\n",
       "<table border=\"1\" class=\"dataframe\">\n",
       "  <thead>\n",
       "    <tr style=\"text-align: right;\">\n",
       "      <th></th>\n",
       "      <th>&lt;TICKER&gt;_x</th>\n",
       "      <th>&lt;PER&gt;_x</th>\n",
       "      <th>&lt;DATE&gt;</th>\n",
       "      <th>&lt;TIME&gt;_x</th>\n",
       "      <th>&lt;CLOSE&gt;_x</th>\n",
       "      <th>&lt;VOL&gt;_x</th>\n",
       "      <th>&lt;TICKER&gt;_y</th>\n",
       "      <th>&lt;PER&gt;_y</th>\n",
       "      <th>&lt;TIME&gt;_y</th>\n",
       "      <th>&lt;CLOSE&gt;_y</th>\n",
       "      <th>&lt;VOL&gt;_y</th>\n",
       "    </tr>\n",
       "  </thead>\n",
       "  <tbody>\n",
       "    <tr>\n",
       "      <th>0</th>\n",
       "      <td>YNDX</td>\n",
       "      <td>D</td>\n",
       "      <td>20140604</td>\n",
       "      <td>0</td>\n",
       "      <td>1170.0</td>\n",
       "      <td>35146</td>\n",
       "      <td>SBER</td>\n",
       "      <td>D</td>\n",
       "      <td>0</td>\n",
       "      <td>87.81</td>\n",
       "      <td>118784670</td>\n",
       "    </tr>\n",
       "    <tr>\n",
       "      <th>1</th>\n",
       "      <td>YNDX</td>\n",
       "      <td>D</td>\n",
       "      <td>20140605</td>\n",
       "      <td>0</td>\n",
       "      <td>1145.1</td>\n",
       "      <td>24973</td>\n",
       "      <td>SBER</td>\n",
       "      <td>D</td>\n",
       "      <td>0</td>\n",
       "      <td>87.43</td>\n",
       "      <td>136633680</td>\n",
       "    </tr>\n",
       "    <tr>\n",
       "      <th>2</th>\n",
       "      <td>YNDX</td>\n",
       "      <td>D</td>\n",
       "      <td>20140606</td>\n",
       "      <td>0</td>\n",
       "      <td>1163.0</td>\n",
       "      <td>7889</td>\n",
       "      <td>SBER</td>\n",
       "      <td>D</td>\n",
       "      <td>0</td>\n",
       "      <td>89.00</td>\n",
       "      <td>127884670</td>\n",
       "    </tr>\n",
       "    <tr>\n",
       "      <th>3</th>\n",
       "      <td>YNDX</td>\n",
       "      <td>D</td>\n",
       "      <td>20140609</td>\n",
       "      <td>0</td>\n",
       "      <td>1172.1</td>\n",
       "      <td>7304</td>\n",
       "      <td>SBER</td>\n",
       "      <td>D</td>\n",
       "      <td>0</td>\n",
       "      <td>88.89</td>\n",
       "      <td>84744280</td>\n",
       "    </tr>\n",
       "    <tr>\n",
       "      <th>4</th>\n",
       "      <td>YNDX</td>\n",
       "      <td>D</td>\n",
       "      <td>20140610</td>\n",
       "      <td>0</td>\n",
       "      <td>1170.0</td>\n",
       "      <td>3207</td>\n",
       "      <td>SBER</td>\n",
       "      <td>D</td>\n",
       "      <td>0</td>\n",
       "      <td>88.99</td>\n",
       "      <td>85841300</td>\n",
       "    </tr>\n",
       "  </tbody>\n",
       "</table>\n",
       "</div>"
      ],
      "text/plain": [
       "  <TICKER>_x <PER>_x    <DATE>  <TIME>_x  <CLOSE>_x  <VOL>_x <TICKER>_y  \\\n",
       "0       YNDX       D  20140604         0     1170.0    35146       SBER   \n",
       "1       YNDX       D  20140605         0     1145.1    24973       SBER   \n",
       "2       YNDX       D  20140606         0     1163.0     7889       SBER   \n",
       "3       YNDX       D  20140609         0     1172.1     7304       SBER   \n",
       "4       YNDX       D  20140610         0     1170.0     3207       SBER   \n",
       "\n",
       "  <PER>_y  <TIME>_y  <CLOSE>_y    <VOL>_y  \n",
       "0       D         0      87.81  118784670  \n",
       "1       D         0      87.43  136633680  \n",
       "2       D         0      89.00  127884670  \n",
       "3       D         0      88.89   84744280  \n",
       "4       D         0      88.99   85841300  "
      ]
     },
     "execution_count": 447,
     "metadata": {},
     "output_type": "execute_result"
    }
   ],
   "source": [
    "res2.head()"
   ]
  },
  {
   "cell_type": "code",
   "execution_count": 448,
   "metadata": {},
   "outputs": [
    {
     "data": {
      "text/plain": [
       "(838, 11)"
      ]
     },
     "execution_count": 448,
     "metadata": {},
     "output_type": "execute_result"
    }
   ],
   "source": [
    "res2.shape"
   ]
  },
  {
   "cell_type": "code",
   "execution_count": 449,
   "metadata": {},
   "outputs": [],
   "source": [
    "X2 = res2['<CLOSE>_x'] #yndx\n",
    "Y2 = res2['<CLOSE>_y'] #sber\n",
    "\n",
    "#для нормализации узнаем мин и макс значения выборки Х\n",
    "x_min = res['<CLOSE>_x'].min()\n",
    "x_max = res['<CLOSE>_x'].max()\n"
   ]
  },
  {
   "cell_type": "code",
   "execution_count": 481,
   "metadata": {},
   "outputs": [
    {
     "data": {
      "image/png": "[encoded data removed]",
      "text/plain": [
       "<Figure size 432x288 with 1 Axes>"
      ]
     },
     "metadata": {
      "needs_background": "light"
     },
     "output_type": "display_data"
    }
   ],
   "source": [
    "plt.figure()\n",
    "plt.scatter(X2,Y2, color='grey')\n",
    "plt.show()"
   ]
  },
  {
   "cell_type": "code",
   "execution_count": 477,
   "metadata": {},
   "outputs": [],
   "source": [
    "model = Model()\n",
    "steps,errors = model.fit(X2,Y2)"
   ]
  },
  {
   "cell_type": "code",
   "execution_count": 479,
   "metadata": {},
   "outputs": [
    {
     "data": {
      "image/png": "[encoded data removed]",
      "text/plain": [
       "<Figure size 432x288 with 1 Axes>"
      ]
     },
     "metadata": {
      "needs_background": "light"
     },
     "output_type": "display_data"
    }
   ],
   "source": [
    "X0 = np.linspace(700,2000,1000)\n",
    "Y0 = model.predict(X0)\n",
    "\n",
    "plt.figure()\n",
    "plt.scatter(X2,Y2, color='grey')\n",
    "plt.plot(X0, Y0, color='blue')\n",
    "plt.show()"
   ]
  },
  {
   "cell_type": "code",
   "execution_count": 480,
   "metadata": {},
   "outputs": [
    {
     "data": {
      "text/plain": [
       "283.35128863467116"
      ]
     },
     "execution_count": 480,
     "metadata": {},
     "output_type": "execute_result"
    }
   ],
   "source": [
    "model.error(X2,Y2)"
   ]
  },
  {
   "cell_type": "code",
   "execution_count": 478,
   "metadata": {},
   "outputs": [
    {
     "data": {
      "image/png": "[encoded data removed]",
      "text/plain": [
       "<Figure size 432x288 with 1 Axes>"
      ]
     },
     "metadata": {
      "needs_background": "light"
     },
     "output_type": "display_data"
    }
   ],
   "source": [
    "plt.figure()\n",
    "plt.plot(steps,errors, color='BLUE')\n",
    "plt.show()"
   ]
  },
  {
   "cell_type": "markdown",
   "metadata": {},
   "source": [
    "### 4.По примеру программы регрессии, рассмотренной на семинаре, построить модель регрессии с использованием библиотечных средств\n"
   ]
  },
  {
   "cell_type": "code",
   "execution_count": 455,
   "metadata": {},
   "outputs": [],
   "source": [
    "from sklearn.linear_model import LinearRegression"
   ]
  },
  {
   "cell_type": "code",
   "execution_count": 456,
   "metadata": {},
   "outputs": [
    {
     "data": {
      "text/html": [
       "<div>\n",
       "<style scoped>\n",
       "    .dataframe tbody tr th:only-of-type {\n",
       "        vertical-align: middle;\n",
       "    }\n",
       "\n",
       "    .dataframe tbody tr th {\n",
       "        vertical-align: top;\n",
       "    }\n",
       "\n",
       "    .dataframe thead th {\n",
       "        text-align: right;\n",
       "    }\n",
       "</style>\n",
       "<table border=\"1\" class=\"dataframe\">\n",
       "  <thead>\n",
       "    <tr style=\"text-align: right;\">\n",
       "      <th></th>\n",
       "      <th>&lt;TICKER&gt;_x</th>\n",
       "      <th>&lt;PER&gt;_x</th>\n",
       "      <th>&lt;DATE&gt;</th>\n",
       "      <th>&lt;TIME&gt;_x</th>\n",
       "      <th>&lt;CLOSE&gt;_x</th>\n",
       "      <th>&lt;VOL&gt;_x</th>\n",
       "      <th>&lt;TICKER&gt;_y</th>\n",
       "      <th>&lt;PER&gt;_y</th>\n",
       "      <th>&lt;TIME&gt;_y</th>\n",
       "      <th>&lt;CLOSE&gt;_y</th>\n",
       "      <th>&lt;VOL&gt;_y</th>\n",
       "    </tr>\n",
       "  </thead>\n",
       "  <tbody>\n",
       "    <tr>\n",
       "      <th>0</th>\n",
       "      <td>SBER</td>\n",
       "      <td>D</td>\n",
       "      <td>20101001</td>\n",
       "      <td>0</td>\n",
       "      <td>89.09</td>\n",
       "      <td>332429890</td>\n",
       "      <td>MVID</td>\n",
       "      <td>D</td>\n",
       "      <td>0</td>\n",
       "      <td>194.38</td>\n",
       "      <td>19406</td>\n",
       "    </tr>\n",
       "    <tr>\n",
       "      <th>1</th>\n",
       "      <td>SBER</td>\n",
       "      <td>D</td>\n",
       "      <td>20101004</td>\n",
       "      <td>0</td>\n",
       "      <td>89.88</td>\n",
       "      <td>194032721</td>\n",
       "      <td>MVID</td>\n",
       "      <td>D</td>\n",
       "      <td>0</td>\n",
       "      <td>190.00</td>\n",
       "      <td>31039</td>\n",
       "    </tr>\n",
       "    <tr>\n",
       "      <th>2</th>\n",
       "      <td>SBER</td>\n",
       "      <td>D</td>\n",
       "      <td>20101005</td>\n",
       "      <td>0</td>\n",
       "      <td>91.97</td>\n",
       "      <td>198775753</td>\n",
       "      <td>MVID</td>\n",
       "      <td>D</td>\n",
       "      <td>0</td>\n",
       "      <td>187.00</td>\n",
       "      <td>17651</td>\n",
       "    </tr>\n",
       "    <tr>\n",
       "      <th>3</th>\n",
       "      <td>SBER</td>\n",
       "      <td>D</td>\n",
       "      <td>20101006</td>\n",
       "      <td>0</td>\n",
       "      <td>91.20</td>\n",
       "      <td>210406027</td>\n",
       "      <td>MVID</td>\n",
       "      <td>D</td>\n",
       "      <td>0</td>\n",
       "      <td>190.04</td>\n",
       "      <td>36482</td>\n",
       "    </tr>\n",
       "    <tr>\n",
       "      <th>4</th>\n",
       "      <td>SBER</td>\n",
       "      <td>D</td>\n",
       "      <td>20101007</td>\n",
       "      <td>0</td>\n",
       "      <td>90.40</td>\n",
       "      <td>145137617</td>\n",
       "      <td>MVID</td>\n",
       "      <td>D</td>\n",
       "      <td>0</td>\n",
       "      <td>199.85</td>\n",
       "      <td>204248</td>\n",
       "    </tr>\n",
       "  </tbody>\n",
       "</table>\n",
       "</div>"
      ],
      "text/plain": [
       "  <TICKER>_x <PER>_x    <DATE>  <TIME>_x  <CLOSE>_x    <VOL>_x <TICKER>_y  \\\n",
       "0       SBER       D  20101001         0      89.09  332429890       MVID   \n",
       "1       SBER       D  20101004         0      89.88  194032721       MVID   \n",
       "2       SBER       D  20101005         0      91.97  198775753       MVID   \n",
       "3       SBER       D  20101006         0      91.20  210406027       MVID   \n",
       "4       SBER       D  20101007         0      90.40  145137617       MVID   \n",
       "\n",
       "  <PER>_y  <TIME>_y  <CLOSE>_y  <VOL>_y  \n",
       "0       D         0     194.38    19406  \n",
       "1       D         0     190.00    31039  \n",
       "2       D         0     187.00    17651  \n",
       "3       D         0     190.04    36482  \n",
       "4       D         0     199.85   204248  "
      ]
     },
     "execution_count": 456,
     "metadata": {},
     "output_type": "execute_result"
    }
   ],
   "source": [
    "res.head()"
   ]
  },
  {
   "cell_type": "code",
   "execution_count": 457,
   "metadata": {},
   "outputs": [],
   "source": [
    "X = res[['<CLOSE>_x']].values\n",
    "Y = res[['<CLOSE>_y']].values\n"
   ]
  },
  {
   "cell_type": "code",
   "execution_count": 458,
   "metadata": {},
   "outputs": [
    {
     "name": "stdout",
     "output_type": "stream",
     "text": [
      "Slope: [1.99635191]\n",
      "Intercept: [56.01112869]\n"
     ]
    }
   ],
   "source": [
    "slr = LinearRegression()\n",
    "slr.fit(X, Y)\n",
    "y_pred = slr.predict(X)\n",
    "print('Slope:',slr.coef_[0])\n",
    "print('Intercept:',slr.intercept_)"
   ]
  },
  {
   "cell_type": "code",
   "execution_count": 459,
   "metadata": {},
   "outputs": [
    {
     "data": {
      "text/plain": [
       "<function matplotlib.pyplot.show(*args, **kw)>"
      ]
     },
     "execution_count": 459,
     "metadata": {},
     "output_type": "execute_result"
    },
    {
     "data": {
      "image/png": "[encoded data removed]",
      "text/plain": [
       "<Figure size 432x288 with 1 Axes>"
      ]
     },
     "metadata": {
      "needs_background": "light"
     },
     "output_type": "display_data"
    }
   ],
   "source": [
    "plt.scatter(X, Y, color='green')\n",
    "plt.plot(X, slr.predict(X), color='red', linewidth=2)\n",
    "plt.show"
   ]
  },
  {
   "cell_type": "markdown",
   "metadata": {},
   "source": [
    "Визуально результат схож после использования самостоятельно написанного класса,но при детальном изучении видно, что результаты немного отличаются"
   ]
  },
  {
   "cell_type": "markdown",
   "metadata": {},
   "source": [
    "Так как этот пакет используется специально для построения линейной регрессии, стоит предположить, что этот результат более точный"
   ]
  },
  {
   "cell_type": "markdown",
   "metadata": {},
   "source": [
    "### 1.Реализуйте механизм адаптивной скорости обучения.\n"
   ]
  },
  {
   "cell_type": "markdown",
   "metadata": {},
   "source": [
    "Cравнивать нынешнюю оценку с предыдущей, и если она больше чем прошлая, то изменять скорость обучения"
   ]
  },
  {
   "cell_type": "code",
   "execution_count": 460,
   "metadata": {},
   "outputs": [],
   "source": [
    "class Model:\n",
    "    def __init__(self):\n",
    "        self.b0 = 0\n",
    "        self.b1 = 0\n",
    "    def predict(self,x):\n",
    "        \n",
    "        #сделать нормализацию данных\n",
    "        ''' x'=(x-xmin)/(xmax-xmin) '''\n",
    "        x_norm = (x-x_min)/(x_max-x_min)\n",
    "        \n",
    "        return self.b0 + self.b1 * x_norm\n",
    "    \n",
    "    def error(self,x,y):\n",
    "        return sum((self.predict(x) - y)** 2) / (2*len(x))\n",
    "    \n",
    "    def fit(self,x,y): #метод градиентного спуска\n",
    "    \n",
    "        \n",
    "        #градиент функций\n",
    "        alpha = 0.1\n",
    "        x_norm = (x-x_min)/(x_max-x_min)\n",
    "        errors = []\n",
    "        steps = list(range(1000))\n",
    "        for i in steps:\n",
    "            dj0 = sum(self.predict(x) - y )/ len(x_norm)\n",
    "            dj1 = sum((self.predict(x) - y)* x_norm) /len(x_norm)\n",
    "            #приближаемся к оптимуму \n",
    "            self.b0 = self.b0 - alpha*dj0\n",
    "            self.b1 = self.b1 - alpha*dj1\n",
    "            \n",
    "            #график ошибок\n",
    "            errors.append(self.error(x,y))\n",
    "            steps\n",
    "            #адаптивная скорость обучения\n",
    "            if i != 0 and errors[-2] < (errors[-1] - 2):\n",
    "                alpha = alpha * 0.1\n",
    "        return steps,errors"
   ]
  },
  {
   "cell_type": "code",
   "execution_count": 461,
   "metadata": {},
   "outputs": [],
   "source": [
    "model = Model()\n",
    "steps,errors = model.fit(X,Y)"
   ]
  },
  {
   "cell_type": "code",
   "execution_count": 462,
   "metadata": {},
   "outputs": [
    {
     "data": {
      "image/png": "[encoded data removed]",
      "text/plain": [
       "<Figure size 432x288 with 1 Axes>"
      ]
     },
     "metadata": {
      "needs_background": "light"
     },
     "output_type": "display_data"
    }
   ],
   "source": [
    "plt.figure()\n",
    "plt.scatter(X,Y, color='green')\n",
    "plt.show()"
   ]
  },
  {
   "cell_type": "code",
   "execution_count": 463,
   "metadata": {},
   "outputs": [
    {
     "data": {
      "image/png": "[encoded data removed]",
      "text/plain": [
       "<Figure size 432x288 with 1 Axes>"
      ]
     },
     "metadata": {
      "needs_background": "light"
     },
     "output_type": "display_data"
    }
   ],
   "source": [
    "X0 = np.linspace(60,200,100)\n",
    "Y0 = model.predict(X0)\n",
    "\n",
    "plt.figure()\n",
    "plt.scatter(X,Y, color='green')\n",
    "plt.plot(X0, Y0, color='red')\n",
    "plt.show()"
   ]
  },
  {
   "cell_type": "code",
   "execution_count": 465,
   "metadata": {},
   "outputs": [
    {
     "data": {
      "text/plain": [
       "array([176.1031552])"
      ]
     },
     "execution_count": 465,
     "metadata": {},
     "output_type": "execute_result"
    }
   ],
   "source": [
    "model.error(X,Y)"
   ]
  },
  {
   "cell_type": "markdown",
   "metadata": {},
   "source": [
    "### 3. Модифицируйте класс регрессии так, чтобы он проводил обучение только на случайно выделенной части данных (обучающей выборке). Историю динамики ошибки отслеживать отдельно по обучающей и по тестовой выборке"
   ]
  },
  {
   "cell_type": "code",
   "execution_count": 483,
   "metadata": {},
   "outputs": [],
   "source": [
    "def random_sample(x_sample,y_sample):\n",
    "    #выбираем рандомно обучающую выборку (около 70%)\n",
    "    f = random.randrange(0, len(X)-1)\n",
    "    if f>=int(len(x_sample)//2):\n",
    "        r = f - int(len(x_sample)//1.5)\n",
    "        \n",
    "        return x_sample[r:f], y_sample[r:f],x_sample[:r],y_sample[:r]\n",
    "    else:\n",
    "        r = f + int(len(x_sample)//1.5)\n",
    "        return x_sample[f:r], y_sample[f:r],x_sample[r:],y_sample[r:]\n",
    "\n",
    "class Regression:\n",
    "    def __init__(self):\n",
    "        self.b0 = 0\n",
    "        self.b1 = 0\n",
    "    def predict(self,x):\n",
    "        \n",
    "        #сделать нормализацию данных\n",
    "        ''' x'=(x-xmin)/(xmax-xmin) '''\n",
    "        x_norm = (x-x_min)/(x_max-x_min)\n",
    "        \n",
    "        return self.b0 + self.b1 * x_norm\n",
    "    \n",
    "    def error(self,x,y):\n",
    "        return sum((self.predict(x) - y)** 2) / (2*len(x))\n",
    "    \n",
    "    def fit(self,x,y): #метод градиентного спуска\n",
    "    \n",
    "        \n",
    "        #градиент функций\n",
    "        alpha = 0.1\n",
    "        x_norm = (x-x_min)/(x_max-x_min)\n",
    "        errors = []\n",
    "        steps = list(range(1000))\n",
    "        for i in steps:\n",
    "            dj0 = sum(self.predict(x) - y )/ len(x_norm)\n",
    "            dj1 = sum((self.predict(x) - y)* x_norm) /len(x_norm)\n",
    "            #приближаемся к оптимуму \n",
    "            self.b0 = self.b0 - alpha*dj0\n",
    "            self.b1 = self.b1 - alpha*dj1\n",
    "            \n",
    "            #график ошибок\n",
    "            errors.append(self.error(x,y))\n",
    "            steps\n",
    "            #адаптивная скорость обучения\n",
    "            if i != 0 and errors[-2] < (errors[-1] - 2):\n",
    "                alpha = alpha * 0.1\n",
    "        return steps,errors"
   ]
  },
  {
   "cell_type": "code",
   "execution_count": 484,
   "metadata": {},
   "outputs": [],
   "source": [
    "x_learn,y_learn,x_test,y_test = random_sample(X,Y)"
   ]
  },
  {
   "cell_type": "code",
   "execution_count": 485,
   "metadata": {},
   "outputs": [
    {
     "data": {
      "text/plain": [
       "array([[ 92.85],\n",
       "       [ 93.95],\n",
       "       [ 93.86],\n",
       "       ...,\n",
       "       [165.8 ],\n",
       "       [170.8 ],\n",
       "       [169.97]])"
      ]
     },
     "execution_count": 485,
     "metadata": {},
     "output_type": "execute_result"
    }
   ],
   "source": [
    "x_learn"
   ]
  },
  {
   "cell_type": "code",
   "execution_count": 486,
   "metadata": {},
   "outputs": [
    {
     "data": {
      "text/plain": [
       "array([[278. ],\n",
       "       [280.9],\n",
       "       [289.5],\n",
       "       ...,\n",
       "       [383. ],\n",
       "       [384.5],\n",
       "       [384.6]])"
      ]
     },
     "execution_count": 486,
     "metadata": {},
     "output_type": "execute_result"
    }
   ],
   "source": [
    "y_learn"
   ]
  },
  {
   "cell_type": "code",
   "execution_count": 487,
   "metadata": {},
   "outputs": [
    {
     "data": {
      "text/plain": [
       "array([[ 89.09],\n",
       "       [ 89.88],\n",
       "       [ 91.97],\n",
       "       [ 91.2 ],\n",
       "       [ 90.4 ],\n",
       "       [ 90.5 ],\n",
       "       [ 91.74],\n",
       "       [ 90.9 ],\n",
       "       [ 91.3 ],\n",
       "       [ 91.47],\n",
       "       [ 92.53],\n",
       "       [ 94.96],\n",
       "       [ 95.37],\n",
       "       [ 97.7 ],\n",
       "       [103.31],\n",
       "       [101.9 ],\n",
       "       [102.3 ],\n",
       "       [101.42],\n",
       "       [ 99.72],\n",
       "       [ 99.35],\n",
       "       [101.36],\n",
       "       [101.85],\n",
       "       [102.35],\n",
       "       [103.3 ],\n",
       "       [103.95],\n",
       "       [103.59],\n",
       "       [100.44],\n",
       "       [ 98.4 ],\n",
       "       [ 97.94],\n",
       "       [ 97.8 ],\n",
       "       [ 99.2 ],\n",
       "       [ 95.26],\n",
       "       [ 97.2 ],\n",
       "       [ 99.66],\n",
       "       [ 98.7 ],\n",
       "       [ 99.15],\n",
       "       [ 98.5 ],\n",
       "       [101.31],\n",
       "       [102.6 ],\n",
       "       [101.36],\n",
       "       [100.71],\n",
       "       [101.51],\n",
       "       [103.34],\n",
       "       [103.64],\n",
       "       [103.03],\n",
       "       [105.56],\n",
       "       [107.37],\n",
       "       [104.67],\n",
       "       [104.63],\n",
       "       [104.92],\n",
       "       [107.45],\n",
       "       [107.25],\n",
       "       [107.7 ],\n",
       "       [106.3 ],\n",
       "       [105.7 ],\n",
       "       [105.6 ],\n",
       "       [106.8 ],\n",
       "       [106.78],\n",
       "       [106.99],\n",
       "       [106.23],\n",
       "       [105.12],\n",
       "       [104.47],\n",
       "       [104.35],\n",
       "       [104.18],\n",
       "       [103.78],\n",
       "       [107.08],\n",
       "       [107.54],\n",
       "       [107.21],\n",
       "       [109.57],\n",
       "       [108.08],\n",
       "       [107.66],\n",
       "       [105.21],\n",
       "       [105.61],\n",
       "       [104.05],\n",
       "       [105.98],\n",
       "       [108.6 ],\n",
       "       [107.74],\n",
       "       [106.38],\n",
       "       [105.9 ],\n",
       "       [106.4 ],\n",
       "       [104.3 ],\n",
       "       [103.88],\n",
       "       [102.8 ],\n",
       "       [103.18],\n",
       "       [101.42],\n",
       "       [ 99.86],\n",
       "       [ 96.3 ],\n",
       "       [101.04],\n",
       "       [101.29],\n",
       "       [ 99.51],\n",
       "       [100.6 ],\n",
       "       [100.9 ],\n",
       "       [100.82],\n",
       "       [100.49],\n",
       "       [ 98.51],\n",
       "       [ 97.2 ],\n",
       "       [100.34],\n",
       "       [102.1 ],\n",
       "       [ 99.89],\n",
       "       [ 99.5 ],\n",
       "       [101.99],\n",
       "       [100.33],\n",
       "       [101.55],\n",
       "       [102.91],\n",
       "       [ 99.77],\n",
       "       [ 98.75],\n",
       "       [ 97.1 ],\n",
       "       [ 95.  ],\n",
       "       [ 94.47],\n",
       "       [ 98.19],\n",
       "       [100.16],\n",
       "       [100.54],\n",
       "       [100.3 ],\n",
       "       [101.1 ],\n",
       "       [105.09],\n",
       "       [106.94],\n",
       "       [106.23],\n",
       "       [106.26],\n",
       "       [106.93],\n",
       "       [106.65],\n",
       "       [108.72],\n",
       "       [108.43],\n",
       "       [106.85],\n",
       "       [107.99],\n",
       "       [106.98],\n",
       "       [109.1 ],\n",
       "       [108.48],\n",
       "       [104.88],\n",
       "       [106.29],\n",
       "       [106.43],\n",
       "       [105.92],\n",
       "       [100.34],\n",
       "       [101.61],\n",
       "       [102.84],\n",
       "       [102.66],\n",
       "       [103.92],\n",
       "       [101.83],\n",
       "       [101.5 ],\n",
       "       [100.17],\n",
       "       [101.14],\n",
       "       [100.  ],\n",
       "       [ 97.7 ],\n",
       "       [ 96.4 ],\n",
       "       [ 95.61],\n",
       "       [ 98.2 ],\n",
       "       [ 97.35],\n",
       "       [ 96.78],\n",
       "       [ 96.7 ],\n",
       "       [ 97.99],\n",
       "       [ 97.91],\n",
       "       [ 96.07],\n",
       "       [ 97.17],\n",
       "       [ 96.53],\n",
       "       [ 94.  ],\n",
       "       [ 91.65],\n",
       "       [ 93.62],\n",
       "       [ 95.25],\n",
       "       [ 95.7 ],\n",
       "       [ 97.1 ],\n",
       "       [ 97.4 ],\n",
       "       [ 97.59],\n",
       "       [ 96.73],\n",
       "       [ 96.91],\n",
       "       [ 95.02],\n",
       "       [ 95.9 ],\n",
       "       [ 96.25],\n",
       "       [ 95.9 ],\n",
       "       [ 99.22],\n",
       "       [ 97.55],\n",
       "       [ 97.7 ],\n",
       "       [ 97.7 ],\n",
       "       [ 96.97],\n",
       "       [ 95.33],\n",
       "       [ 94.76],\n",
       "       [ 96.05],\n",
       "       [ 95.74],\n",
       "       [ 94.19],\n",
       "       [ 97.15],\n",
       "       [ 96.54],\n",
       "       [ 99.15],\n",
       "       [ 99.47],\n",
       "       [100.  ],\n",
       "       [104.5 ],\n",
       "       [104.72],\n",
       "       [104.3 ],\n",
       "       [104.36],\n",
       "       [107.62],\n",
       "       [105.27],\n",
       "       [102.46],\n",
       "       [102.55],\n",
       "       [103.89],\n",
       "       [104.31],\n",
       "       [105.46],\n",
       "       [101.3 ],\n",
       "       [102.34],\n",
       "       [101.9 ],\n",
       "       [103.03],\n",
       "       [101.8 ],\n",
       "       [102.62],\n",
       "       [102.21],\n",
       "       [101.62],\n",
       "       [102.64],\n",
       "       [101.75],\n",
       "       [102.75],\n",
       "       [102.47],\n",
       "       [ 99.47],\n",
       "       [ 98.6 ],\n",
       "       [ 95.85],\n",
       "       [ 89.76],\n",
       "       [ 91.56],\n",
       "       [ 85.16],\n",
       "       [ 83.72],\n",
       "       [ 85.5 ],\n",
       "       [ 88.06],\n",
       "       [ 86.45],\n",
       "       [ 87.05],\n",
       "       [ 81.59],\n",
       "       [ 78.78],\n",
       "       [ 78.73],\n",
       "       [ 77.44],\n",
       "       [ 78.  ],\n",
       "       [ 78.9 ],\n",
       "       [ 77.79],\n",
       "       [ 81.7 ],\n",
       "       [ 82.15],\n",
       "       [ 84.93],\n",
       "       [ 85.09],\n",
       "       [ 82.4 ],\n",
       "       [ 80.2 ],\n",
       "       [ 80.45],\n",
       "       [ 83.67],\n",
       "       [ 85.57],\n",
       "       [ 83.2 ],\n",
       "       [ 79.63],\n",
       "       [ 80.41],\n",
       "       [ 80.04],\n",
       "       [ 80.9 ],\n",
       "       [ 81.49],\n",
       "       [ 80.07],\n",
       "       [ 81.8 ],\n",
       "       [ 81.72],\n",
       "       [ 73.8 ],\n",
       "       [ 69.99],\n",
       "       [ 69.4 ],\n",
       "       [ 72.72],\n",
       "       [ 71.  ],\n",
       "       [ 74.7 ],\n",
       "       [ 70.44],\n",
       "       [ 68.2 ],\n",
       "       [ 62.65],\n",
       "       [ 62.79],\n",
       "       [ 65.8 ],\n",
       "       [ 68.22],\n",
       "       [ 70.6 ],\n",
       "       [ 70.1 ],\n",
       "       [ 74.11],\n",
       "       [ 75.  ],\n",
       "       [ 80.72],\n",
       "       [ 79.1 ],\n",
       "       [ 78.19],\n",
       "       [ 80.74],\n",
       "       [ 80.84],\n",
       "       [ 81.9 ],\n",
       "       [ 84.29],\n",
       "       [ 82.09],\n",
       "       [ 83.55],\n",
       "       [ 85.46],\n",
       "       [ 85.4 ],\n",
       "       [ 81.88],\n",
       "       [ 77.2 ],\n",
       "       [ 78.92],\n",
       "       [ 80.9 ],\n",
       "       [ 82.53],\n",
       "       [ 84.22],\n",
       "       [ 78.7 ],\n",
       "       [ 80.4 ],\n",
       "       [ 80.8 ],\n",
       "       [ 80.12],\n",
       "       [ 80.6 ],\n",
       "       [ 79.75],\n",
       "       [ 80.45],\n",
       "       [ 80.03],\n",
       "       [ 75.85],\n",
       "       [ 76.18],\n",
       "       [ 76.76],\n",
       "       [ 75.71],\n",
       "       [ 78.6 ],\n",
       "       [ 82.92],\n",
       "       [ 82.58],\n",
       "       [ 87.55],\n",
       "       [ 87.7 ],\n",
       "       [ 89.5 ],\n",
       "       [ 89.92],\n",
       "       [ 85.9 ],\n",
       "       [ 85.25],\n",
       "       [ 86.  ],\n",
       "       [ 82.26],\n",
       "       [ 79.96],\n",
       "       [ 82.72],\n",
       "       [ 81.3 ],\n",
       "       [ 82.27],\n",
       "       [ 80.62],\n",
       "       [ 81.8 ],\n",
       "       [ 82.71],\n",
       "       [ 80.22],\n",
       "       [ 79.99],\n",
       "       [ 80.  ],\n",
       "       [ 81.42],\n",
       "       [ 80.  ],\n",
       "       [ 79.28],\n",
       "       [ 78.8 ],\n",
       "       [ 79.4 ],\n",
       "       [ 82.41],\n",
       "       [ 83.52],\n",
       "       [ 82.55],\n",
       "       [ 83.2 ],\n",
       "       [ 83.88],\n",
       "       [ 86.81],\n",
       "       [ 84.85],\n",
       "       [ 84.3 ],\n",
       "       [ 83.6 ],\n",
       "       [ 83.95],\n",
       "       [ 84.66],\n",
       "       [ 84.7 ],\n",
       "       [ 85.7 ],\n",
       "       [ 85.13],\n",
       "       [ 85.02],\n",
       "       [ 85.04],\n",
       "       [ 87.05],\n",
       "       [ 90.4 ],\n",
       "       [ 90.8 ],\n",
       "       [ 88.92],\n",
       "       [ 90.17],\n",
       "       [ 92.75],\n",
       "       [ 92.62],\n",
       "       [ 94.52],\n",
       "       [ 93.8 ],\n",
       "       [ 93.46],\n",
       "       [ 95.17],\n",
       "       [ 95.28],\n",
       "       [ 93.94],\n",
       "       [ 96.19],\n",
       "       [ 96.36],\n",
       "       [ 97.2 ],\n",
       "       [ 96.24],\n",
       "       [ 96.76],\n",
       "       [ 97.5 ],\n",
       "       [ 96.68],\n",
       "       [ 96.09],\n",
       "       [ 99.02],\n",
       "       [ 99.72],\n",
       "       [ 98.64],\n",
       "       [100.19],\n",
       "       [100.25],\n",
       "       [101.6 ],\n",
       "       [102.3 ],\n",
       "       [ 97.37],\n",
       "       [ 97.68],\n",
       "       [ 99.57],\n",
       "       [ 99.09],\n",
       "       [100.53],\n",
       "       [103.32],\n",
       "       [100.65],\n",
       "       [100.18],\n",
       "       [ 99.67],\n",
       "       [ 98.49],\n",
       "       [ 98.2 ],\n",
       "       [ 96.  ],\n",
       "       [ 97.6 ],\n",
       "       [ 99.98],\n",
       "       [ 97.79],\n",
       "       [ 95.91],\n",
       "       [ 93.55],\n",
       "       [ 94.86],\n",
       "       [ 95.13],\n",
       "       [ 98.  ],\n",
       "       [ 96.17],\n",
       "       [ 97.42],\n",
       "       [ 95.64],\n",
       "       [ 95.92],\n",
       "       [ 95.55],\n",
       "       [ 96.  ],\n",
       "       [ 95.41],\n",
       "       [ 94.18],\n",
       "       [ 92.31],\n",
       "       [ 93.23],\n",
       "       [ 92.9 ],\n",
       "       [ 94.35],\n",
       "       [ 95.  ],\n",
       "       [ 92.54],\n",
       "       [ 92.65],\n",
       "       [ 93.75],\n",
       "       [ 92.62],\n",
       "       [ 93.79],\n",
       "       [ 93.95],\n",
       "       [ 93.06],\n",
       "       [ 92.55],\n",
       "       [ 90.83],\n",
       "       [ 90.42],\n",
       "       [ 88.5 ],\n",
       "       [ 89.53],\n",
       "       [ 91.79],\n",
       "       [ 91.04],\n",
       "       [ 90.99],\n",
       "       [ 87.55],\n",
       "       [ 88.19],\n",
       "       [ 86.91],\n",
       "       [ 80.71],\n",
       "       [ 78.19],\n",
       "       [ 81.95],\n",
       "       [ 82.82],\n",
       "       [ 78.65],\n",
       "       [ 81.44],\n",
       "       [ 79.87],\n",
       "       [ 80.37],\n",
       "       [ 84.14],\n",
       "       [ 82.38],\n",
       "       [ 81.69],\n",
       "       [ 78.86],\n",
       "       [ 78.1 ],\n",
       "       [ 78.11],\n",
       "       [ 80.62],\n",
       "       [ 83.44],\n",
       "       [ 81.38],\n",
       "       [ 81.58],\n",
       "       [ 83.04],\n",
       "       [ 83.05],\n",
       "       [ 84.34],\n",
       "       [ 86.2 ],\n",
       "       [ 86.96],\n",
       "       [ 85.73],\n",
       "       [ 85.36],\n",
       "       [ 83.76],\n",
       "       [ 82.3 ],\n",
       "       [ 83.6 ],\n",
       "       [ 84.5 ],\n",
       "       [ 82.8 ],\n",
       "       [ 86.39],\n",
       "       [ 87.65],\n",
       "       [ 90.94],\n",
       "       [ 91.1 ],\n",
       "       [ 90.92],\n",
       "       [ 89.2 ],\n",
       "       [ 90.02],\n",
       "       [ 91.  ],\n",
       "       [ 90.01],\n",
       "       [ 88.92],\n",
       "       [ 90.98],\n",
       "       [ 90.85],\n",
       "       [ 91.22],\n",
       "       [ 91.6 ],\n",
       "       [ 92.15],\n",
       "       [ 90.12],\n",
       "       [ 86.  ],\n",
       "       [ 84.45],\n",
       "       [ 86.9 ],\n",
       "       [ 88.45],\n",
       "       [ 90.31],\n",
       "       [ 91.24],\n",
       "       [ 89.73],\n",
       "       [ 89.39],\n",
       "       [ 88.79],\n",
       "       [ 91.66],\n",
       "       [ 93.3 ],\n",
       "       [ 93.97],\n",
       "       [ 93.94],\n",
       "       [ 93.87],\n",
       "       [ 92.85],\n",
       "       [ 93.18],\n",
       "       [ 93.58],\n",
       "       [ 92.98],\n",
       "       [ 92.82],\n",
       "       [ 92.05],\n",
       "       [ 91.52],\n",
       "       [ 93.57],\n",
       "       [ 92.55],\n",
       "       [ 93.04],\n",
       "       [ 92.91],\n",
       "       [ 92.81],\n",
       "       [ 94.48],\n",
       "       [ 94.54],\n",
       "       [ 93.49],\n",
       "       [ 93.16],\n",
       "       [ 94.08],\n",
       "       [ 93.09]])"
      ]
     },
     "execution_count": 487,
     "metadata": {},
     "output_type": "execute_result"
    }
   ],
   "source": [
    "x_test"
   ]
  },
  {
   "cell_type": "code",
   "execution_count": 423,
   "metadata": {},
   "outputs": [
    {
     "data": {
      "text/plain": [
       "0      194.38\n",
       "1      190.00\n",
       "2      187.00\n",
       "3      190.04\n",
       "4      199.85\n",
       "        ...  \n",
       "342    225.50\n",
       "343    229.00\n",
       "344    226.50\n",
       "345    228.00\n",
       "346    232.37\n",
       "Name: <CLOSE>_y, Length: 347, dtype: float64"
      ]
     },
     "execution_count": 423,
     "metadata": {},
     "output_type": "execute_result"
    }
   ],
   "source": [
    "y_test"
   ]
  },
  {
   "cell_type": "code",
   "execution_count": 488,
   "metadata": {},
   "outputs": [],
   "source": [
    "model = Regression()\n",
    "steps,errors = model.fit(x_learn,y_learn)\n",
    "steps1,errors1 = model.fit(x_test,y_test)"
   ]
  },
  {
   "cell_type": "code",
   "execution_count": 489,
   "metadata": {},
   "outputs": [
    {
     "data": {
      "image/png": "[encoded data removed]",
      "text/plain": [
       "<Figure size 432x288 with 1 Axes>"
      ]
     },
     "metadata": {
      "needs_background": "light"
     },
     "output_type": "display_data"
    }
   ],
   "source": [
    "#Обучающая выборка\n",
    "X0 = np.linspace(60,200,100)\n",
    "Y0 = model.predict(X0)\n",
    "\n",
    "plt.figure()\n",
    "plt.scatter(x_learn,y_learn, color='grey')\n",
    "plt.plot(X0, Y0, color='red')\n",
    "plt.show()"
   ]
  },
  {
   "cell_type": "code",
   "execution_count": 490,
   "metadata": {},
   "outputs": [
    {
     "data": {
      "text/plain": [
       "array([176.02428028])"
      ]
     },
     "execution_count": 490,
     "metadata": {},
     "output_type": "execute_result"
    }
   ],
   "source": [
    "model.error(x_learn,y_learn)"
   ]
  },
  {
   "cell_type": "code",
   "execution_count": 491,
   "metadata": {},
   "outputs": [
    {
     "data": {
      "image/png": "[encoded data removed]",
      "text/plain": [
       "<Figure size 432x288 with 1 Axes>"
      ]
     },
     "metadata": {
      "needs_background": "light"
     },
     "output_type": "display_data"
    }
   ],
   "source": [
    "#График ошибки на обучающей\n",
    "plt.figure()\n",
    "plt.plot(steps,errors, color='BLUE')\n",
    "#тестовая\n",
    "plt.plot(steps1,errors1, color='RED')\n",
    "plt.show()"
   ]
  },
  {
   "cell_type": "code",
   "execution_count": null,
   "metadata": {},
   "outputs": [],
   "source": []
  }
 ],
 "metadata": {
  "kernelspec": {
   "display_name": "Python 3",
   "language": "python",
   "name": "python3"
  },
  "language_info": {
   "codemirror_mode": {
    "name": "ipython",
    "version": 3
   },
   "file_extension": ".py",
   "mimetype": "text/x-python",
   "name": "python",
   "nbconvert_exporter": "python",
   "pygments_lexer": "ipython3",
   "version": "3.7.6"
  }
 },
 "nbformat": 4,
 "nbformat_minor": 4
}
