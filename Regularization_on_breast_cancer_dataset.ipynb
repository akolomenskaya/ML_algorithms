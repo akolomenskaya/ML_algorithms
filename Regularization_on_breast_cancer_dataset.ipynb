{
 "cells": [
  {
   "cell_type": "markdown",
   "metadata": {},
   "source": [
    "## Загрузите датасет breast_cancer.\n"
   ]
  },
  {
   "cell_type": "code",
   "execution_count": 3,
   "metadata": {},
   "outputs": [],
   "source": [
    "import sklearn as sk\n",
    "import numpy as np\n",
    "import matplotlib\n",
    "import matplotlib.pyplot as plt\n",
    "import operator\n",
    "import seaborn as sns\n",
    "import pandas as pd\n",
    "\n",
    "from sklearn.datasets import load_breast_cancer\n",
    "from sklearn.model_selection import train_test_split\n",
    "from sklearn.pipeline import Pipeline\n",
    "from sklearn.svm import SVC\n",
    "from sklearn.model_selection import cross_val_score,cross_val_predict, KFold, StratifiedShuffleSplit\n",
    "from scipy.stats import sem\n",
    "from sklearn.metrics import r2_score,classification_report, f1_score, confusion_matrix\n"
   ]
  },
  {
   "cell_type": "code",
   "execution_count": 4,
   "metadata": {},
   "outputs": [],
   "source": [
    "\n",
    " \n",
    "breast_cancer = load_breast_cancer()\n",
    " \n",
    "X = breast_cancer.data\n",
    "y = breast_cancer.target\n"
   ]
  },
  {
   "cell_type": "markdown",
   "metadata": {},
   "source": [
    "## Разделите выборку на обучающую и тестовую в пропорции 70-30. Шаги 3-7 выполняйте на обучающей выборке.\n"
   ]
  },
  {
   "cell_type": "code",
   "execution_count": 5,
   "metadata": {},
   "outputs": [],
   "source": [
    "X_train, X_test, y_train, y_test = train_test_split(X, y,train_size = 0.7, random_state=12)"
   ]
  },
  {
   "cell_type": "markdown",
   "metadata": {},
   "source": [
    "## Создайте конвейер, состоящий из классификатора на основе наивного Линейного SVM."
   ]
  },
  {
   "cell_type": "code",
   "execution_count": 7,
   "metadata": {},
   "outputs": [],
   "source": [
    "clf = Pipeline([\n",
    "    ('svc', SVC(kernel=\"linear\",probability=True)),\n",
    "])\n"
   ]
  },
  {
   "cell_type": "markdown",
   "metadata": {},
   "source": [
    "### Познакомьтесь с документацией по классу KFold и методу cross_val_score из модуля model_selection для организации перекрестной проверки."
   ]
  },
  {
   "cell_type": "markdown",
   "metadata": {},
   "source": [
    "### Используйте данные функции для вычисления робастной оценки эффективности созданного на шаге 3 классификатора на датасете из шага 1."
   ]
  },
  {
   "cell_type": "code",
   "execution_count": 8,
   "metadata": {},
   "outputs": [
    {
     "name": "stdout",
     "output_type": "stream",
     "text": [
      "[0.93684211 0.96842105 0.94708995]\n",
      "Mean score: 0.951 (+/-0.009)\n",
      "0.950784368328228\n"
     ]
    }
   ],
   "source": [
    "def evaluate_cross_validation(clf, X, y, K):\n",
    "    cv = KFold(K, shuffle=True, random_state=0).get_n_splits(len(y))\n",
    "    scores = cross_val_score(clf, X, y, cv=cv)\n",
    "    print(scores)\n",
    "    print((\"Mean score: {0:.3f} (+/-{1:.3f})\").format(\n",
    "        np.mean(scores), sem(scores)))\n",
    "    return np.mean(scores)\n",
    " \n",
    "mean_score = evaluate_cross_validation(clf, X, y, 3)\n",
    "print(mean_score)"
   ]
  },
  {
   "cell_type": "markdown",
   "metadata": {},
   "source": [
    "достаточно хороший mean score\n",
    "\n"
   ]
  },
  {
   "cell_type": "markdown",
   "metadata": {},
   "source": [
    "### Напишите функцию, которая подбирает оптимальное значение гиперпараметра регуляризации (alpha) ориентируясь на наилучшее значение робастной эффективности. Для этого познакомьтесь с функцией set_params\n"
   ]
  },
  {
   "cell_type": "markdown",
   "metadata": {},
   "source": [
    "Для проверки различных значений гиперпараметров сформируем список и напишем функцию calc_params, которая принимает матрицу признаков, вектор целевой переменной (сюда нужно будет передавать обучающую выборку, полученную на втором шаге), список значений параметра и название этого параметра"
   ]
  },
  {
   "cell_type": "markdown",
   "metadata": {},
   "source": [
    "### Постройте график зависимости обучающей и тестовой оценки классификатора от значения параметра alpha"
   ]
  },
  {
   "cell_type": "code",
   "execution_count": 91,
   "metadata": {},
   "outputs": [],
   "source": [
    "def calc_param(X,y,clf,params,param_name,K):\n",
    "    train_scores = []\n",
    "    test_scores = []\n",
    "    \n",
    "    for i in range(len(params)):\n",
    "        print(i)\n",
    "        cv = KFold(K, shuffle=True, random_state=0).split(X, y)\n",
    "        clf.set_params(**{param_name:params[i]})\n",
    "        test = [None] * K\n",
    "        train = [None] * K\n",
    "        for j, (train, test) in enumerate(cv):\n",
    "            print('j = ',j)\n",
    "            k_train_scores = np.zeros(K)\n",
    "            k_test_scores = np.zeros(K)\n",
    "        \n",
    "        # fit the classifier in the corresponding fold\n",
    "        # and obtain the corresponding accuracy scores on train and test sets\n",
    "            clf.fit([X[k] for k in train], y[train])\n",
    "            k_train_scores[j] = clf.score([X[k] for k in train], y[train])\n",
    "            k_test_scores[j] = clf.score([X[k] for k in test], y[test])\n",
    "            #print('mean.   ',np.mean(k_train_scores[j]))\n",
    "            #print(k_test_scores)\n",
    "        train = k_train_scores.sum()\n",
    "        train_scores.append(train)\n",
    "        test = k_test_scores.sum()\n",
    "        test_scores.append(test)\n",
    "    \n",
    "    dictionary = dict(zip(params, test_scores))\n",
    "    best_param = max(dictionary.items(), key=operator.itemgetter(1))[0]\n",
    "    clf.set_params(**{param_name:best_param})\n",
    "    print('Best',param_name,':', best_param)\n",
    "    \n",
    "    plt.figure(figsize=(10, 5))\n",
    "    plt.plot(params,train_scores, label=\"training scores\")\n",
    "    plt.plot(params,test_scores, label=\"test scores\")\n",
    "    plt.legend(loc=\"lower right\")\n",
    "    plt.ylabel('Mean cross-validation accuracy')\n",
    "    plt.xlabel(param_name)\n",
    "    plt.show\n",
    "    \n",
    "    "
   ]
  },
  {
   "cell_type": "code",
   "execution_count": 93,
   "metadata": {},
   "outputs": [
    {
     "name": "stdout",
     "output_type": "stream",
     "text": [
      "0\n",
      "j =  0\n",
      "j =  1\n",
      "j =  2\n",
      "1\n",
      "j =  0\n",
      "j =  1\n",
      "j =  2\n",
      "2\n",
      "j =  0\n",
      "j =  1\n",
      "j =  2\n",
      "3\n",
      "j =  0\n",
      "j =  1\n",
      "j =  2\n",
      "4\n",
      "j =  0\n",
      "j =  1\n",
      "j =  2\n",
      "5\n",
      "j =  0\n",
      "j =  1\n",
      "j =  2\n",
      "Best svc__C : 100.0\n"
     ]
    },
    {
     "data": {
      "image/png": "[encoded data removed]",
      "text/plain": [
       "<Figure size 720x360 with 1 Axes>"
      ]
     },
     "metadata": {
      "needs_background": "light"
     },
     "output_type": "display_data"
    }
   ],
   "source": [
    "alphas = np.logspace(-7, 2, 6)\n",
    "calc_param(X, y, clf, alphas, 'svc__C',3)"
   ]
  },
  {
   "cell_type": "markdown",
   "metadata": {},
   "source": [
    "Не обращайте внимание на цифры, я просто отслеживала иттерации"
   ]
  },
  {
   "cell_type": "markdown",
   "metadata": {},
   "source": [
    "Я правда взяла меньше значений альфа, а то очень долго считал и мой ноутбук пыхтел"
   ]
  },
  {
   "cell_type": "markdown",
   "metadata": {},
   "source": [
    "параметр подбирается исходя из лучшего значения для валдиационной выборки"
   ]
  },
  {
   "cell_type": "markdown",
   "metadata": {},
   "source": [
    "### Используйте несколько метрик эффективности для оценки полученного классификатора (с наилучшим значением гиперпараметра). Прокомментируйте получившиеся значения.\n"
   ]
  },
  {
   "cell_type": "code",
   "execution_count": 253,
   "metadata": {},
   "outputs": [
    {
     "data": {
      "text/plain": [
       "Text(0.5, 15.0, 'Предсказанные значения')"
      ]
     },
     "execution_count": 253,
     "metadata": {},
     "output_type": "execute_result"
    },
    {
     "data": {
      "image/png": "[encoded data removed]",
      "text/plain": [
       "<Figure size 432x288 with 2 Axes>"
      ]
     },
     "metadata": {
      "needs_background": "light"
     },
     "output_type": "display_data"
    }
   ],
   "source": [
    "class_names = [0, 1]\n",
    "fig, ax = plt.subplots()\n",
    "ticks = np.arange(len(class_names))\n",
    "plt.xticks(ticks, class_names)\n",
    "plt.yticks(ticks, class_names)\n",
    "\n",
    "cf_matrix = confusion_matrix(y_test, clf.predict(X_test))\n",
    "sns.heatmap(cf_matrix, annot=True)\n",
    "plt.ylabel('Действительные значения')\n",
    "plt.xlabel('Предсказанные значения')"
   ]
  },
  {
   "cell_type": "code",
   "execution_count": 254,
   "metadata": {},
   "outputs": [
    {
     "name": "stdout",
     "output_type": "stream",
     "text": [
      "              precision    recall  f1-score   support\n",
      "\n",
      "           0       0.97      0.89      0.93        64\n",
      "           1       0.94      0.98      0.96       107\n",
      "\n",
      "    accuracy                           0.95       171\n",
      "   macro avg       0.95      0.94      0.94       171\n",
      "weighted avg       0.95      0.95      0.95       171\n",
      "\n"
     ]
    }
   ],
   "source": [
    "clf.fit(X_train,y_train)\n",
    "clf_report = classification_report(y_test, clf.predict(X_test))\n",
    "print(clf_report)"
   ]
  },
  {
   "cell_type": "markdown",
   "metadata": {},
   "source": [
    "Оценивая classification_report и смотря на получившуюся confusion_matrix, можно понять, что в целом ошибка для определения каждого класса мала, так же исходя из нашей задачи, нам важно оценивать, как много больных людей (по-настоящему) находит алгоритм,то есть наверное  важна метрика recall сильнее, как мы видим, для 1 класса она равна 98%, то есть в целом алгоритм среди всех больных находит только 95%, что в целом достаточно хороший результат, к тому же как мы видим, среди здоровых люлей он мало кому приписывает болезнь, что тоже оченьхороший показатель "
   ]
  },
  {
   "cell_type": "markdown",
   "metadata": {},
   "source": [
    "### Постройте кривую усредненного Precision-Recall. Выведите оценку F1. Прокомментируйте результат."
   ]
  },
  {
   "cell_type": "code",
   "execution_count": 257,
   "metadata": {},
   "outputs": [
    {
     "name": "stdout",
     "output_type": "stream",
     "text": [
      "\u001b[1mF1-score:\u001b[0m 0.958904109589041\n"
     ]
    },
    {
     "data": {
      "image/png": "[encoded data removed]",
      "text/plain": [
       "<Figure size 432x288 with 1 Axes>"
      ]
     },
     "metadata": {
      "needs_background": "light"
     },
     "output_type": "display_data"
    }
   ],
   "source": [
    "from sklearn.metrics import plot_precision_recall_curve,precision_recall_curve\n",
    "from sklearn.metrics import average_precision_score\n",
    " \n",
    "y_score = clf.decision_function(X)\n",
    " \n",
    "precision, recall, _ = precision_recall_curve(y.ravel(), y_score.ravel())\n",
    "average_precision = average_precision_score(y, y_score)\n",
    " \n",
    "plt.step(recall, precision, where='post')\n",
    " \n",
    "plt.xlabel('Recall')\n",
    "plt.ylabel('Precision')\n",
    "plt.ylim([0.0, 1.05])\n",
    "plt.xlim([0.0, 1.0])\n",
    "plt.title(\n",
    "    'Average precision score, micro-averaged over all classes: AP={0:0.4f}'\n",
    "    .format(average_precision))\n",
    "\n",
    "print('\\033[1mF1-score:\\033[0m',f1_score(y_test, clf.predict(X_test)))\n"
   ]
  },
  {
   "cell_type": "markdown",
   "metadata": {},
   "source": [
    "Данный график говорит о том, что высок показатель как Recall, тиак и Precision, из-за чего площадь под графиком очень близка к графику идеальной модели, поэтому можно сказать, что с подобранным параметром модель хорошо работает "
   ]
  },
  {
   "cell_type": "markdown",
   "metadata": {},
   "source": [
    "Усредненная метрика f1 так же говорит о хорошем качестве полученной модели"
   ]
  },
  {
   "cell_type": "markdown",
   "metadata": {},
   "source": [
    "### Постройте кривую ROC. Выведите метрику ROC-AUC. Прокомментируйте результат. \n"
   ]
  },
  {
   "cell_type": "code",
   "execution_count": 258,
   "metadata": {},
   "outputs": [],
   "source": [
    "from sklearn.metrics import roc_curve\n",
    "from sklearn.metrics import roc_auc_score\n",
    "\n",
    "def plot_roc_curve(fpr, tpr):\n",
    "    plt.plot(fpr, tpr, color='red', label='ROC , auc='+str(round(auc,2)))\n",
    "    plt.plot([0, 1], [0, 1], color='darkblue', linestyle='--')\n",
    "    plt.xlabel('False Positive ')\n",
    "    plt.ylabel('True Positive ')\n",
    "    plt.title('Площадь ROC-кривой')\n",
    "    plt.legend()\n",
    "    plt.show()"
   ]
  },
  {
   "cell_type": "code",
   "execution_count": 259,
   "metadata": {},
   "outputs": [
    {
     "name": "stdout",
     "output_type": "stream",
     "text": [
      "AUC: 0.98584\n"
     ]
    },
    {
     "data": {
      "image/png": "[encoded data removed]",
      "text/plain": [
       "<Figure size 432x288 with 1 Axes>"
      ]
     },
     "metadata": {
      "needs_background": "light"
     },
     "output_type": "display_data"
    }
   ],
   "source": [
    "probs = clf.predict_proba(X_test)\n",
    "probs = probs[:, 1]\n",
    "\n",
    "auc = roc_auc_score(y_test, probs)\n",
    "print('AUC: %.5f' % auc)\n",
    "\n",
    "fpr, tpr, thresholds = roc_curve(y_test, probs)\n",
    "plot_roc_curve(fpr, tpr)"
   ]
  },
  {
   "cell_type": "markdown",
   "metadata": {},
   "source": [
    "Как мы видим построенный график очень близок к углу (0,1), что гооворит о хорошем качестве модели"
   ]
  },
  {
   "cell_type": "markdown",
   "metadata": {},
   "source": [
    "### Используйте возможности распараллеливания для ускорения обучения. Сделайте замеры времени обучения в однопоточном режиме, в два потока и при количестве потоков равном количеству ядер в Вашей системе. Выведите результаты в таблицу и сделайте вывод.\n"
   ]
  },
  {
   "cell_type": "markdown",
   "metadata": {},
   "source": [
    "Взяла как пример RandomForest, потому что там есть параметр n_jobs"
   ]
  },
  {
   "cell_type": "code",
   "execution_count": 214,
   "metadata": {},
   "outputs": [
    {
     "name": "stdout",
     "output_type": "stream",
     "text": [
      "132 ms ± 3.54 ms per loop (mean ± std. dev. of 7 runs, 10 loops each)\n"
     ]
    }
   ],
   "source": [
    "from sklearn import ensemble\n",
    "\n",
    "rf = ensemble.RandomForestClassifier(n_estimators=100, random_state=11)\n",
    "%timeit rf.fit(X_train, y_train)\n"
   ]
  },
  {
   "cell_type": "code",
   "execution_count": 208,
   "metadata": {
    "scrolled": true
   },
   "outputs": [
    {
     "name": "stdout",
     "output_type": "stream",
     "text": [
      "150 ms ± 467 µs per loop (mean ± std. dev. of 7 runs, 10 loops each)\n"
     ]
    }
   ],
   "source": [
    "rf = ensemble.RandomForestClassifier(n_estimators=100, random_state=11,n_jobs =2)\n",
    "%timeit rf.fit(X_train, y_train)\n",
    "\n"
   ]
  },
  {
   "cell_type": "code",
   "execution_count": 215,
   "metadata": {},
   "outputs": [
    {
     "name": "stdout",
     "output_type": "stream",
     "text": [
      "189 ms ± 53.2 ms per loop (mean ± std. dev. of 7 runs, 1 loop each)\n"
     ]
    }
   ],
   "source": [
    "rf = ensemble.RandomForestClassifier(n_estimators=100, random_state=11,n_jobs = -1)\n",
    "%timeit rf.fit(X_train, y_train)"
   ]
  },
  {
   "cell_type": "code",
   "execution_count": 221,
   "metadata": {},
   "outputs": [
    {
     "name": "stdout",
     "output_type": "stream",
     "text": [
      "372 ms ± 55.7 ms per loop (mean ± std. dev. of 7 runs, 1 loop each)\n"
     ]
    }
   ],
   "source": [
    "%timeit clf.fit(X_train,y_train)"
   ]
  },
  {
   "cell_type": "code",
   "execution_count": null,
   "metadata": {},
   "outputs": [],
   "source": [
    "print('n=1 time =150 ms ± 467 µs per loop (mean ± std. dev. of 7 runs, 10 loops each)' )"
   ]
  },
  {
   "cell_type": "markdown",
   "metadata": {},
   "source": [
    "Как мы видим, при последнем использовании ( при количестве потоков равном количеству ядер в Вашей системе) уменьшается количество loop (loop=1), а значит и ускоряется время обучения"
   ]
  },
  {
   "cell_type": "markdown",
   "metadata": {},
   "source": [
    "### Повторите анализ для другой модели (вида ядра). Сравните производительности моделей для разных метрик. Сделайте вывод о предпочтительности моделей.\n"
   ]
  },
  {
   "cell_type": "markdown",
   "metadata": {},
   "source": [
    "Давайте возьмем другое ядро SVM для сравнения"
   ]
  },
  {
   "cell_type": "code",
   "execution_count": 96,
   "metadata": {},
   "outputs": [],
   "source": [
    "clf_rbf = Pipeline([\n",
    "    ('svc', SVC(kernel=\"rbf\",probability=True)),\n",
    "])"
   ]
  },
  {
   "cell_type": "code",
   "execution_count": 98,
   "metadata": {},
   "outputs": [
    {
     "name": "stdout",
     "output_type": "stream",
     "text": [
      "0\n",
      "j =  0\n",
      "j =  1\n",
      "j =  2\n",
      "1\n",
      "j =  0\n",
      "j =  1\n",
      "j =  2\n",
      "2\n",
      "j =  0\n",
      "j =  1\n",
      "j =  2\n",
      "3\n",
      "j =  0\n",
      "j =  1\n",
      "j =  2\n",
      "4\n",
      "j =  0\n",
      "j =  1\n",
      "j =  2\n",
      "5\n",
      "j =  0\n",
      "j =  1\n",
      "j =  2\n",
      "6\n",
      "j =  0\n",
      "j =  1\n",
      "j =  2\n",
      "7\n",
      "j =  0\n",
      "j =  1\n",
      "j =  2\n",
      "8\n",
      "j =  0\n",
      "j =  1\n",
      "j =  2\n",
      "9\n",
      "j =  0\n",
      "j =  1\n",
      "j =  2\n",
      "10\n",
      "j =  0\n",
      "j =  1\n",
      "j =  2\n",
      "11\n",
      "j =  0\n",
      "j =  1\n",
      "j =  2\n",
      "Best svc__C : 15.199110829529332\n"
     ]
    },
    {
     "data": {
      "image/png": "[encoded data removed]",
      "text/plain": [
       "<Figure size 720x360 with 1 Axes>"
      ]
     },
     "metadata": {
      "needs_background": "light"
     },
     "output_type": "display_data"
    }
   ],
   "source": [
    "alphas = np.logspace(-7, 2, 12)\n",
    "calc_param(X, y, clf_rbf, alphas, 'svc__C',3)"
   ]
  },
  {
   "cell_type": "markdown",
   "metadata": {},
   "source": []
  },
  {
   "cell_type": "code",
   "execution_count": 266,
   "metadata": {},
   "outputs": [
    {
     "name": "stdout",
     "output_type": "stream",
     "text": [
      "9.44 ms ± 208 µs per loop (mean ± std. dev. of 7 runs, 100 loops each)\n"
     ]
    }
   ],
   "source": [
    "%timeit clf_rbf.fit(X_train,y_train)"
   ]
  },
  {
   "cell_type": "code",
   "execution_count": 262,
   "metadata": {},
   "outputs": [
    {
     "name": "stdout",
     "output_type": "stream",
     "text": [
      "              precision    recall  f1-score   support\n",
      "\n",
      "           0       0.93      0.81      0.87        64\n",
      "           1       0.90      0.96      0.93       107\n",
      "\n",
      "    accuracy                           0.91       171\n",
      "   macro avg       0.91      0.89      0.90       171\n",
      "weighted avg       0.91      0.91      0.90       171\n",
      "\n"
     ]
    }
   ],
   "source": [
    "clf_rbf.fit(X_train,y_train)\n",
    "clf_report = classification_report(y_test, clf_rbf.predict(X_test))\n",
    "print(clf_report)"
   ]
  },
  {
   "cell_type": "code",
   "execution_count": 263,
   "metadata": {},
   "outputs": [
    {
     "data": {
      "text/plain": [
       "Text(0.5, 15.0, 'Предсказанные значения')"
      ]
     },
     "execution_count": 263,
     "metadata": {},
     "output_type": "execute_result"
    },
    {
     "data": {
      "image/png": "[encoded data removed]",
      "text/plain": [
       "<Figure size 432x288 with 2 Axes>"
      ]
     },
     "metadata": {
      "needs_background": "light"
     },
     "output_type": "display_data"
    }
   ],
   "source": [
    "class_names = [0, 1]\n",
    "fig, ax = plt.subplots()\n",
    "ticks = np.arange(len(class_names))\n",
    "plt.xticks(ticks, class_names)\n",
    "plt.yticks(ticks, class_names)\n",
    "\n",
    "cf_matrix = confusion_matrix(y_test, clf_rbf.predict(X_test))\n",
    "sns.heatmap(cf_matrix, annot=True)\n",
    "plt.ylabel('Действительные значения')\n",
    "plt.xlabel('Предсказанные значения')"
   ]
  },
  {
   "cell_type": "code",
   "execution_count": 264,
   "metadata": {},
   "outputs": [
    {
     "name": "stdout",
     "output_type": "stream",
     "text": [
      "\u001b[1mF1-score:\u001b[0m 0.9279279279279279\n"
     ]
    },
    {
     "data": {
      "image/png": "[encoded data removed]",
      "text/plain": [
       "<Figure size 432x288 with 1 Axes>"
      ]
     },
     "metadata": {
      "needs_background": "light"
     },
     "output_type": "display_data"
    }
   ],
   "source": [
    "from sklearn.metrics import plot_precision_recall_curve,precision_recall_curve\n",
    "from sklearn.metrics import average_precision_score\n",
    " \n",
    "y_score = clf.decision_function(X)\n",
    " \n",
    "precision, recall, _ = precision_recall_curve(y.ravel(), y_score.ravel())\n",
    "average_precision = average_precision_score(y, y_score)\n",
    " \n",
    "plt.step(recall, precision, where='post')\n",
    " \n",
    "plt.xlabel('Recall')\n",
    "plt.ylabel('Precision')\n",
    "plt.ylim([0.0, 1.05])\n",
    "plt.xlim([0.0, 1.0])\n",
    "plt.title(\n",
    "    'Average precision score, micro-averaged over all classes: AP={0:0.6f}'\n",
    "    .format(average_precision))\n",
    "\n",
    "print('\\033[1mF1-score:\\033[0m',f1_score(y_test, clf_rbf.predict(X_test)))"
   ]
  },
  {
   "cell_type": "code",
   "execution_count": 265,
   "metadata": {},
   "outputs": [
    {
     "name": "stdout",
     "output_type": "stream",
     "text": [
      "AUC: 0.97722\n"
     ]
    },
    {
     "data": {
      "image/png": "[encoded data removed]",
      "text/plain": [
       "<Figure size 432x288 with 1 Axes>"
      ]
     },
     "metadata": {
      "needs_background": "light"
     },
     "output_type": "display_data"
    }
   ],
   "source": [
    "probs = clf_rbf.predict_proba(X_test)\n",
    "probs = probs[:, 1]\n",
    "\n",
    "auc = roc_auc_score(y_test, probs)\n",
    "print('AUC: %.5f' % auc)\n",
    "\n",
    "fpr, tpr, thresholds = roc_curve(y_test, probs)\n",
    "plot_roc_curve(fpr, tpr)"
   ]
  },
  {
   "cell_type": "markdown",
   "metadata": {},
   "source": [
    "Как мы видим, svc модель с данным ядром незначительно хуже модели с линейным ядром, но отличается буквально не намного, но при этом данна модель быстрее обучается, так что при анализе больших данных можно пожертвовать качеством модели на какие-то сотые единицы ради времени вычисления "
   ]
  }
 ],
 "metadata": {
  "kernelspec": {
   "display_name": "Python 3",
   "language": "python",
   "name": "python3"
  },
  "language_info": {
   "codemirror_mode": {
    "name": "ipython",
    "version": 3
   },
   "file_extension": ".py",
   "mimetype": "text/x-python",
   "name": "python",
   "nbconvert_exporter": "python",
   "pygments_lexer": "ipython3",
   "version": "3.7.6"
  }
 },
 "nbformat": 4,
 "nbformat_minor": 4
}
